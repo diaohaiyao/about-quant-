{
 "cells": [
  {
   "cell_type": "markdown",
   "metadata": {},
   "source": [
    "# 研究有些股票开始上涨的原因.\n",
    "本来想用 祥和实业 从20200728 开始的这波涨势为例子进行研究, 但是考虑到 daily data 的原因.是否可以找到一个从 20200810 开始上涨的 股票.\n",
    "### 载入数据"
   ]
  },
  {
   "cell_type": "code",
   "execution_count": 1,
   "metadata": {},
   "outputs": [],
   "source": [
    "import math\n",
    "import datetime\n",
    "import multiprocessing as mp\n",
    "import tushare as ts\n",
    "import os\n",
    "import numpy as np\n",
    "import pandas as pd\n",
    "import datetime\n",
    "import arrow\n",
    "p = print\n",
    "# tushare 的初始化\n",
    "token = '42e0612206685cd9bcd250cc5a3ef3931149303bc1d512c261174b5d'\n",
    "pro = ts.pro_api(token)\n",
    "# 获取当前上市公司列表，包括股票代码，注册地，行业，上市时间等数据\n",
    "basic = pro.stock_basic(list_status = 'L')\n",
    "# 这个 cell 是必须要载入的"
   ]
  },
  {
   "cell_type": "code",
   "execution_count": null,
   "metadata": {},
   "outputs": [],
   "source": []
  },
  {
   "cell_type": "code",
   "execution_count": 2,
   "metadata": {
    "tags": []
   },
   "outputs": [],
   "source": [
    "# 检索所有股票, 找到一只,从 20200810 开始一直在上涨的股票.abs\n",
    "upstart_time = '20200810'\n",
    "select_stocklist = dict()\n",
    "for one_tscode in basic['ts_code']:\n",
    "    stock_data_p = ts.pro_bar(api = pro, ts_code = one_tscode, start_date = upstart_time, adj = 'qfq')\n",
    "    #p(stock_data_p)\n",
    "    # 因为从 20200810 到现在一共只有 10 个交易日, 则我们用下面这个判断规则来筛选:\n",
    "    # 1, 上涨的天数,大于 8 ?\n",
    "    if sum(stock_data_p['pct_chg'] > 0) > 8:\n",
    "        if sum(stock_data_p['pct_chg'] > 3) > 5:\n",
    "            select_stocklist[stock_data_p.iloc[0]['ts_code']] = stock_data_p\n"
   ]
  },
  {
   "cell_type": "code",
   "execution_count": 3,
   "metadata": {},
   "outputs": [
    {
     "data": {
      "text/plain": [
       "dict_keys(['002108.SZ', '002335.SZ', '002716.SZ', '002919.SZ', '002991.SZ', '300094.SZ', '300312.SZ', '300313.SZ', '300647.SZ', '300778.SZ', '300859.SZ', '600158.SH', '600226.SH', '600568.SH', '601456.SH', '603076.SH', '603167.SH', '603303.SH'])"
      ]
     },
     "execution_count": 3,
     "metadata": {},
     "output_type": "execute_result"
    }
   ],
   "source": [
    "select_stocklist.keys()\n",
    "# 002919 感觉上是符合要求的."
   ]
  },
  {
   "cell_type": "code",
   "execution_count": 2,
   "metadata": {
    "tags": []
   },
   "outputs": [],
   "source": [
    "# 用程序筛选:\n",
    "# 多天盘整,然后向上突破均线后形成上涨趋势.\n",
    "# 观察 300204 的数据: 从20200619 到 20200701 是一个调整期,\n",
    "# 而从 20200703 开始, 突破了均线后, 形成了一个上涨势头.\n",
    "study_starttime = '20200601'\n",
    "oneselect_stock = basic[basic['symbol'] == '300204']['ts_code'].iloc[0]\n",
    "oneselect_stockdata = ts.pro_bar(api = pro, ts_code = oneselect_stock, start_date = study_starttime, adj = 'qfq')"
   ]
  },
  {
   "cell_type": "code",
   "execution_count": 9,
   "metadata": {
    "tags": []
   },
   "outputs": [
    {
     "name": "stdout",
     "output_type": "stream",
     "text": [
      "      ts_code trade_date   open   high    low  close  pre_close  change  \\\n",
      "41  300204.SZ   20200630  11.09  11.24  11.03  11.16      11.17   -0.01   \n",
      "42  300204.SZ   20200629  11.31  11.56  11.13  11.17      10.98    0.19   \n",
      "43  300204.SZ   20200624  11.16  11.17  10.88  10.98      11.16   -0.18   \n",
      "44  300204.SZ   20200623  11.30  11.42  11.08  11.16      11.24   -0.08   \n",
      "45  300204.SZ   20200622  11.24  11.36  11.14  11.24      11.24    0.00   \n",
      "46  300204.SZ   20200619  11.37  11.47  11.23  11.24      11.54   -0.30   \n",
      "\n",
      "    pct_chg       vol     amount trans_time  \n",
      "41  -0.0895  31498.10  35105.126 2020-06-30  \n",
      "42   1.7304  50637.52  57334.382 2020-06-29  \n",
      "43  -1.6129  24718.68  27203.880 2020-06-24  \n",
      "44  -0.7117  27886.50  31230.235 2020-06-23  \n",
      "45   0.0000  26644.82  29972.600 2020-06-22  \n",
      "46  -2.5997  41355.75  46785.171 2020-06-19  \n",
      "~~~~~~~~~~~~~~~~~~~\n",
      "20\n"
     ]
    }
   ],
   "source": [
    "# 要把数据的时间格式改一下.\n",
    "oneselect_stockdata['trans_time'] = pd.to_datetime(oneselect_stockdata['trade_date'])\n",
    "#print(oneselect_stockdata)\n",
    "# 设定一个 检查的时间长度 len_Maverage\n",
    "len_Maverage = 4\n",
    "len_select = int(len_Maverage * 1.5)\n",
    "# 找一段 ,在这一段里找跌幅绝大多数在 2% 以内, 偶尔有两个会在 3%左右.这个限制用 in2_limit 表示\n",
    "in2_limit = 0.7\n",
    "in3_limit = 0.95\n",
    "###############################################################################\n",
    "# 选择一个超过这个时间长度的调整期\n",
    "for i_len in range(len_select + 1, len(oneselect_stockdata)):\n",
    "    analysis_data = oneselect_stockdata.iloc[-i_len:-(i_len- len_select), :]\n",
    "    up2_now = sum(abs(analysis_data['pct_chg']) <= 2)/len(analysis_data)\n",
    "    if up2_now > in2_limit :\n",
    "        up3_now = sum(abs(analysis_data['pct_chg']) <= 3)/len(analysis_data)\n",
    "        if up3_now > in3_limit :\n",
    "            # 这里是检验,让开盘收盘很接近.\n",
    "            close_beyond_open = []\n",
    "            for i in range(len(analysis_data)):\n",
    "                temp_data = (analysis_data.iloc[i,2] - analysis_data.iloc[i,5])/analysis_data.iloc[i,5]\n",
    "                close_beyond_open.append(round(temp_data,5))\n",
    "            up5_sum = sum(abs(np.array(close_beyond_open)) > 0.05)\n",
    "            if up5_sum == 0 :\n",
    "                # 到这里为止,已经可以从数据例子中: 观察 300204 的数据: 从20200619 到 20200701 是一个调整期,,在这个例子中准确额找到 20200619 这个日期,\n",
    "                # 那么... 下一步是 ,在之后的一天 向上突破均线.(目前设定为三天内)\n",
    "\n",
    "\n",
    "\n",
    "                break\n",
    "p(analysis_data)\n",
    "p('~~~~~~~~~~~~~~~~~~~')\n",
    "p(i_len)\n",
    "\n"
   ]
  },
  {
   "cell_type": "code",
   "execution_count": 2,
   "metadata": {},
   "outputs": [
    {
     "output_type": "error",
     "ename": "NameError",
     "evalue": "name 'oneselect_stockdata' is not defined",
     "traceback": [
      "\u001b[1;31m---------------------------------------------------------------------------\u001b[0m",
      "\u001b[1;31mNameError\u001b[0m                                 Traceback (most recent call last)",
      "\u001b[1;32m<ipython-input-2-b18b8221b278>\u001b[0m in \u001b[0;36m<module>\u001b[1;34m\u001b[0m\n\u001b[0;32m     43\u001b[0m     \u001b[1;32mreturn\u001b[0m \u001b[0mselectdata_list\u001b[0m\u001b[1;33m\u001b[0m\u001b[1;33m\u001b[0m\u001b[0m\n\u001b[0;32m     44\u001b[0m \u001b[1;33m\u001b[0m\u001b[0m\n\u001b[1;32m---> 45\u001b[1;33m \u001b[0mtest_onefind\u001b[0m \u001b[1;33m=\u001b[0m \u001b[0mfind_adjustperiod\u001b[0m\u001b[1;33m(\u001b[0m\u001b[0moneselect_stockdata\u001b[0m\u001b[1;33m)\u001b[0m\u001b[1;33m\u001b[0m\u001b[1;33m\u001b[0m\u001b[0m\n\u001b[0m\u001b[0;32m     46\u001b[0m \u001b[0mprint\u001b[0m\u001b[1;33m(\u001b[0m\u001b[0mtest_onefind\u001b[0m\u001b[1;33m)\u001b[0m\u001b[1;33m\u001b[0m\u001b[1;33m\u001b[0m\u001b[0m\n",
      "\u001b[1;31mNameError\u001b[0m: name 'oneselect_stockdata' is not defined"
     ]
    }
   ],
   "source": [
    "\n",
    "# 目前这个算法在使用\n",
    "###############################################################################\n",
    "\n",
    "def find_adjustperiod(oneselect_stockdata, # 所选择的股票数据,dataframe\n",
    "                        len_Maverage = 4, # 设定一个 检查的时间长度\n",
    "                      in2_limit = 0.7,in3_limit = 0.95,\n",
    "                      # 找一段 ,在这一段里找跌幅绝大多数在 2% 以内, 偶尔有两个会在 3%左右.这个限制用 in2_limit 表示\n",
    "                      give_test_time = 8 # 给后续检验留下的时间窗口\n",
    "                     ):\n",
    "    # selectdata_list 用于储存最后选择出来的股票时间段.\n",
    "    selectdata_list = []\n",
    "    # 要把数据的时间格式改一下.\n",
    "    oneselect_stockdata['trans_time'] = pd.to_datetime(oneselect_stockdata['trade_date'])\n",
    "    len_select = int(len_Maverage * 1.5)\n",
    "    #######################################################################################\n",
    "    # 减去 give_test_time 是为了给后续验证留下时间段.\n",
    "    # 这里为了让循环,当遇到对的选择时,进行跳过,所以把 for 改成 while\n",
    "    i_len = len_select + 1\n",
    "    #for i_len in range(len_select + 1, len(oneselect_stockdata) - give_test_time):\n",
    "    while i_len <= len(oneselect_stockdata) - give_test_time:\n",
    "        analysis_data = oneselect_stockdata.iloc[-i_len:-(i_len- len_select), :]\n",
    "        up2_now = sum(abs(analysis_data['pct_chg']) <= 2)/len(analysis_data)\n",
    "        if up2_now > in2_limit :\n",
    "            up3_now = sum(abs(analysis_data['pct_chg']) <= 3)/len(analysis_data)\n",
    "            if up3_now > in3_limit :\n",
    "                # 这里是检验,让开盘收盘很接近.\n",
    "                close_beyond_open = []\n",
    "                for i in range(len(analysis_data)):\n",
    "                    temp_data = (analysis_data.iloc[i,2] - analysis_data.iloc[i,5])/analysis_data.iloc[i,5]\n",
    "                    close_beyond_open.append(round(temp_data,5))\n",
    "                up5_sum = sum(abs(np.array(close_beyond_open)) > 0.05)\n",
    "                if up5_sum == 0 :\n",
    "                    # 到这里为止,已经可以从数据例子中: 观察 300204 的数据: 从20200619 到 20200701 是一个调整期,,在这个例子中准确额找到 20200619 这个日期,\n",
    "                    # 那么... 下一步是 ,在之后的一天 向上突破均线.(目前设定为三天内)\n",
    "                    selectdata_list.append(analysis_data)\n",
    "                    # 选择到一个对的向后跳过\n",
    "                    i_len += len_Maverage + give_test_time + 3\n",
    "                else :\n",
    "                    i_len += 1\n",
    "            else:\n",
    "                i_len += 1\n",
    "        else :\n",
    "            i_len += 1\n",
    "    return selectdata_list\n",
    "    \n",
    "#test_onefind = find_adjustperiod(oneselect_stockdata)\n",
    "#print(test_onefind)"
   ]
  },
  {
   "cell_type": "code",
   "execution_count": 33,
   "metadata": {
    "tags": []
   },
   "outputs": [
    {
     "output_type": "stream",
     "name": "stdout",
     "text": "2019-01-07T00:00:00+00:00\n20181108\n"
    },
    {
     "output_type": "execute_result",
     "data": {
      "text/plain": "       ts_code trade_date   open   high    low  close  pre_close  change  \\\n0    000001.SZ   20200826  14.60  14.61  14.28  14.37      14.60   -0.23   \n1    000001.SZ   20200825  14.56  14.69  14.46  14.60      14.46    0.14   \n2    000001.SZ   20200824  14.50  14.71  14.41  14.46      14.45    0.01   \n3    000001.SZ   20200821  14.71  14.71  14.32  14.45      14.59   -0.14   \n4    000001.SZ   20200820  15.01  15.14  14.53  14.59      15.10   -0.51   \n..         ...        ...    ...    ...    ...    ...        ...     ...   \n434  000001.SZ   20181114  10.53  10.55  10.42  10.44      10.54   -0.10   \n435  000001.SZ   20181113  10.41  10.65  10.38  10.54      10.56   -0.02   \n436  000001.SZ   20181112  10.46  10.58  10.38  10.56      10.55    0.01   \n437  000001.SZ   20181109  10.71  10.73  10.40  10.55      10.89   -0.34   \n438  000001.SZ   20181108  10.88  10.97  10.82  10.89      10.81    0.08   \n\n     pct_chg         vol       amount     ma5       ma_v_5    ma10  \\\n0    -1.5753   734117.72  1057274.169  14.494   994041.150  14.656   \n1     0.9682   748320.22  1090756.854  14.640  1131403.228  14.657   \n2     0.0692   919448.86  1338031.969  14.750  1251791.398  14.610   \n3    -0.9596  1234517.33  1787278.581  14.896  1721507.186  14.559   \n4    -3.3775  1333801.62  1962605.013  14.900  1695246.884  14.484   \n..       ...         ...          ...     ...          ...     ...   \n434  -0.9488   774239.85   810357.748  10.596  1038063.304     NaN   \n435  -0.1894  1072497.62  1126736.143     NaN          NaN     NaN   \n436   0.0948   920333.88   965756.504     NaN          NaN     NaN   \n437  -3.1221  1629269.17  1716198.382     NaN          NaN     NaN   \n438   0.7401   793976.00   864744.243     NaN          NaN     NaN   \n\n         ma_v_10     ma20       ma_v_20  \n0    1294990.030  14.2360  1.426989e+06  \n1    1381259.428  14.1945  1.466262e+06  \n2    1566758.195  14.1315  1.489696e+06  \n3    1633584.344  14.0705  1.537756e+06  \n4    1609000.448  14.0230  1.567574e+06  \n..           ...      ...           ...  \n434          NaN      NaN           NaN  \n435          NaN      NaN           NaN  \n436          NaN      NaN           NaN  \n437          NaN      NaN           NaN  \n438          NaN      NaN           NaN  \n\n[439 rows x 17 columns]",
      "text/html": "<div>\n<style scoped>\n    .dataframe tbody tr th:only-of-type {\n        vertical-align: middle;\n    }\n\n    .dataframe tbody tr th {\n        vertical-align: top;\n    }\n\n    .dataframe thead th {\n        text-align: right;\n    }\n</style>\n<table border=\"1\" class=\"dataframe\">\n  <thead>\n    <tr style=\"text-align: right;\">\n      <th></th>\n      <th>ts_code</th>\n      <th>trade_date</th>\n      <th>open</th>\n      <th>high</th>\n      <th>low</th>\n      <th>close</th>\n      <th>pre_close</th>\n      <th>change</th>\n      <th>pct_chg</th>\n      <th>vol</th>\n      <th>amount</th>\n      <th>ma5</th>\n      <th>ma_v_5</th>\n      <th>ma10</th>\n      <th>ma_v_10</th>\n      <th>ma20</th>\n      <th>ma_v_20</th>\n    </tr>\n  </thead>\n  <tbody>\n    <tr>\n      <td>0</td>\n      <td>000001.SZ</td>\n      <td>20200826</td>\n      <td>14.60</td>\n      <td>14.61</td>\n      <td>14.28</td>\n      <td>14.37</td>\n      <td>14.60</td>\n      <td>-0.23</td>\n      <td>-1.5753</td>\n      <td>734117.72</td>\n      <td>1057274.169</td>\n      <td>14.494</td>\n      <td>994041.150</td>\n      <td>14.656</td>\n      <td>1294990.030</td>\n      <td>14.2360</td>\n      <td>1.426989e+06</td>\n    </tr>\n    <tr>\n      <td>1</td>\n      <td>000001.SZ</td>\n      <td>20200825</td>\n      <td>14.56</td>\n      <td>14.69</td>\n      <td>14.46</td>\n      <td>14.60</td>\n      <td>14.46</td>\n      <td>0.14</td>\n      <td>0.9682</td>\n      <td>748320.22</td>\n      <td>1090756.854</td>\n      <td>14.640</td>\n      <td>1131403.228</td>\n      <td>14.657</td>\n      <td>1381259.428</td>\n      <td>14.1945</td>\n      <td>1.466262e+06</td>\n    </tr>\n    <tr>\n      <td>2</td>\n      <td>000001.SZ</td>\n      <td>20200824</td>\n      <td>14.50</td>\n      <td>14.71</td>\n      <td>14.41</td>\n      <td>14.46</td>\n      <td>14.45</td>\n      <td>0.01</td>\n      <td>0.0692</td>\n      <td>919448.86</td>\n      <td>1338031.969</td>\n      <td>14.750</td>\n      <td>1251791.398</td>\n      <td>14.610</td>\n      <td>1566758.195</td>\n      <td>14.1315</td>\n      <td>1.489696e+06</td>\n    </tr>\n    <tr>\n      <td>3</td>\n      <td>000001.SZ</td>\n      <td>20200821</td>\n      <td>14.71</td>\n      <td>14.71</td>\n      <td>14.32</td>\n      <td>14.45</td>\n      <td>14.59</td>\n      <td>-0.14</td>\n      <td>-0.9596</td>\n      <td>1234517.33</td>\n      <td>1787278.581</td>\n      <td>14.896</td>\n      <td>1721507.186</td>\n      <td>14.559</td>\n      <td>1633584.344</td>\n      <td>14.0705</td>\n      <td>1.537756e+06</td>\n    </tr>\n    <tr>\n      <td>4</td>\n      <td>000001.SZ</td>\n      <td>20200820</td>\n      <td>15.01</td>\n      <td>15.14</td>\n      <td>14.53</td>\n      <td>14.59</td>\n      <td>15.10</td>\n      <td>-0.51</td>\n      <td>-3.3775</td>\n      <td>1333801.62</td>\n      <td>1962605.013</td>\n      <td>14.900</td>\n      <td>1695246.884</td>\n      <td>14.484</td>\n      <td>1609000.448</td>\n      <td>14.0230</td>\n      <td>1.567574e+06</td>\n    </tr>\n    <tr>\n      <td>...</td>\n      <td>...</td>\n      <td>...</td>\n      <td>...</td>\n      <td>...</td>\n      <td>...</td>\n      <td>...</td>\n      <td>...</td>\n      <td>...</td>\n      <td>...</td>\n      <td>...</td>\n      <td>...</td>\n      <td>...</td>\n      <td>...</td>\n      <td>...</td>\n      <td>...</td>\n      <td>...</td>\n      <td>...</td>\n    </tr>\n    <tr>\n      <td>434</td>\n      <td>000001.SZ</td>\n      <td>20181114</td>\n      <td>10.53</td>\n      <td>10.55</td>\n      <td>10.42</td>\n      <td>10.44</td>\n      <td>10.54</td>\n      <td>-0.10</td>\n      <td>-0.9488</td>\n      <td>774239.85</td>\n      <td>810357.748</td>\n      <td>10.596</td>\n      <td>1038063.304</td>\n      <td>NaN</td>\n      <td>NaN</td>\n      <td>NaN</td>\n      <td>NaN</td>\n    </tr>\n    <tr>\n      <td>435</td>\n      <td>000001.SZ</td>\n      <td>20181113</td>\n      <td>10.41</td>\n      <td>10.65</td>\n      <td>10.38</td>\n      <td>10.54</td>\n      <td>10.56</td>\n      <td>-0.02</td>\n      <td>-0.1894</td>\n      <td>1072497.62</td>\n      <td>1126736.143</td>\n      <td>NaN</td>\n      <td>NaN</td>\n      <td>NaN</td>\n      <td>NaN</td>\n      <td>NaN</td>\n      <td>NaN</td>\n    </tr>\n    <tr>\n      <td>436</td>\n      <td>000001.SZ</td>\n      <td>20181112</td>\n      <td>10.46</td>\n      <td>10.58</td>\n      <td>10.38</td>\n      <td>10.56</td>\n      <td>10.55</td>\n      <td>0.01</td>\n      <td>0.0948</td>\n      <td>920333.88</td>\n      <td>965756.504</td>\n      <td>NaN</td>\n      <td>NaN</td>\n      <td>NaN</td>\n      <td>NaN</td>\n      <td>NaN</td>\n      <td>NaN</td>\n    </tr>\n    <tr>\n      <td>437</td>\n      <td>000001.SZ</td>\n      <td>20181109</td>\n      <td>10.71</td>\n      <td>10.73</td>\n      <td>10.40</td>\n      <td>10.55</td>\n      <td>10.89</td>\n      <td>-0.34</td>\n      <td>-3.1221</td>\n      <td>1629269.17</td>\n      <td>1716198.382</td>\n      <td>NaN</td>\n      <td>NaN</td>\n      <td>NaN</td>\n      <td>NaN</td>\n      <td>NaN</td>\n      <td>NaN</td>\n    </tr>\n    <tr>\n      <td>438</td>\n      <td>000001.SZ</td>\n      <td>20181108</td>\n      <td>10.88</td>\n      <td>10.97</td>\n      <td>10.82</td>\n      <td>10.89</td>\n      <td>10.81</td>\n      <td>0.08</td>\n      <td>0.7401</td>\n      <td>793976.00</td>\n      <td>864744.243</td>\n      <td>NaN</td>\n      <td>NaN</td>\n      <td>NaN</td>\n      <td>NaN</td>\n      <td>NaN</td>\n      <td>NaN</td>\n    </tr>\n  </tbody>\n</table>\n<p>439 rows × 17 columns</p>\n</div>"
     },
     "metadata": {},
     "execution_count": 33
    }
   ],
   "source": [
    "# 这里选出来的时间段的最后一天是: 20200630 , 逐一检验后续日期中是否有可以超过均线的天数.\n",
    "# 检验的日期长度设定为: test_len\n",
    "test_len = 3 # 检验后续三天的\n",
    "\n",
    "#######################\n",
    "import arrow\n",
    "last_date = analysis_data[0].iloc[-1]['trade_date']\n",
    "last_date_arrow = arrow.get(last_date, 'YYYYMMDD')\n",
    "print(last_date_arrow)\n",
    "\n",
    "# 获得 average line 的起始时间: 留了足够的时间长度, 获得 50 日平均线应该也是够了.\n",
    "startdate_averline = last_date_arrow.shift(days = -30 * 2)\n",
    "str_startdate_averline = startdate_averline.format('YYYYMMDD')\n",
    "print(str_startdate_averline)\n",
    "\n",
    "# 获得平均线数据:\n",
    "# 均线, 取得上面数据的均线:\n",
    "# vol : 成交量; amount : 成交额; ma_v_5 : 是五日平均的成交量.\n",
    "# 这个五日平均线是自动计算,所以要获得 0701 的平均线结果 要提前足够的天数.\n",
    "average_line = ts.pro_bar(api = pro,ts_code = '000001.SZ', start_date = str_startdate_averline,  ma=[5, 10,20])\n",
    "\n",
    "average_line\n"
   ]
  },
  {
   "cell_type": "code",
   "execution_count": 10,
   "metadata": {},
   "outputs": [],
   "source": [
    "enddate = oneselect_stockdata[oneselect_stockdata['trade_date'] == analysis_data.iloc[0]['trade_date']]\n",
    "for i in range(test_len):\n",
    "    test_date = oneselect_stockdata.iloc[enddate.index[0]-1-i]\n",
    "    if i == 2:\n",
    "        break"
   ]
  },
  {
   "cell_type": "code",
   "execution_count": 11,
   "metadata": {
    "tags": []
   },
   "outputs": [
    {
     "name": "stdout",
     "output_type": "stream",
     "text": [
      "i get right one using criterion 1\n"
     ]
    }
   ],
   "source": [
    "one_average_line = average_line[average_line['trade_date'] == test_date['trade_date']].iloc[0]\n",
    "# 在这套数据里,其实还可以比较成交量的关系.以后作为一个研究方向.\n",
    "# 使用的均线也可以作为一个研究的目标. 目前只选用了 5, 10 ,20 三个均线.\n",
    "# 这里的判定条件可以有三种: 目前先用第一个最宽的标准\n",
    "criterion_para = 'criterion_1'\n",
    "# 1, 只要最高价超过均线就算超过: criterion_1\n",
    "if criterion_para == 'criterion_1':\n",
    "    if one_average_line['ma5'] <= one_average_line['high'] and \\\n",
    "        one_average_line['ma10'] <= one_average_line['high'] and \\\n",
    "            one_average_line['ma20'] <= one_average_line['high'] :\n",
    "        print('i get right one using criterion 1')\n",
    "# 2, 必须开盘价超过均线才算超过: criterion_2\n",
    "if criterion_para == 'criterion_2':\n",
    "    if one_average_line['ma5'] <= one_average_line['open'] and \\\n",
    "        one_average_line['ma10'] <= one_average_line['open'] and \\\n",
    "            one_average_line['ma20'] <= one_average_line['open'] :\n",
    "        print('i get right one using criterion 2')\n",
    "# 3, \b必须收盘价超过均线才算超过: criterion_3\n",
    "if criterion_para == 'criterion_3':\n",
    "    if one_average_line['ma5'] <= one_average_line['close'] and \\\n",
    "        one_average_line['ma10'] <= one_average_line['close'] and \\\n",
    "            one_average_line['ma20'] <= one_average_line['close'] :\n",
    "        print('i get right one using criterion 3')"
   ]
  },
  {
   "cell_type": "markdown",
   "metadata": {},
   "source": [
    "### 好的, 以上做出了一个选择标准, 后面来设定上涨标准:"
   ]
  },
  {
   "cell_type": "code",
   "execution_count": 32,
   "metadata": {},
   "outputs": [
    {
     "data": {
      "text/plain": [
       "True"
      ]
     },
     "execution_count": 32,
     "metadata": {},
     "output_type": "execute_result"
    }
   ],
   "source": [
    "# test_date 是我目前获得, 并通过判断的数据. 这时候我们可以去判断后面是否产生了上涨.\n",
    "# 一个简单粗暴的判定方法就是: 后几天的 pct_chg 的求和 是否大于某一个数字.\n",
    "# 把观察天数的标准 设定为 upday_limit ,暂定为 5, 可以在后面的研究中更改.\n",
    "upday_limit = 5\n",
    "# 把 上涨 判定的标准设定为 uprate_limit = 4 , 寻找一周涨 4 % 已经不错了, 不要太贪心.\n",
    "# 主要是测试的股票 5 天最后的收盘的上涨幅度也只有 4.6 所以先用 4 作为标准\n",
    "uprate_limit = 4\n",
    "######################################################################\n",
    "day_Theselect = oneselect_stockdata[oneselect_stockdata['trade_date'] == test_date['trade_date']]\n",
    "data_Theselect = oneselect_stockdata[day_Theselect.index[0] - upday_limit : day_Theselect.index[0]]\n",
    "sum(data_Theselect['pct_chg']) > uprate_limit\n",
    "\n"
   ]
  },
  {
   "cell_type": "markdown",
   "metadata": {},
   "source": [
    "## 现在对整个从 2019 年开始的数据进行测试:\n",
    "1. 获得数据"
   ]
  },
  {
   "cell_type": "code",
   "execution_count": 38,
   "metadata": {
    "tags": []
   },
   "outputs": [
    {
     "output_type": "stream",
     "name": "stdout",
     "text": "i start to study : 000001.SZ\n"
    }
   ],
   "source": [
    "# 研究从 20190101 开始\n",
    "study_starttime = '20190101'\n",
    "# 平均线选择的list,目前选择 5, 10 ,20\n",
    "averagechose_list = [5, 10 , 20]\n",
    "\n",
    "# 设定一个dict,用来存储所有数据.\n",
    "# onedata_study 用来储存一组数据,其中包括\n",
    "onedata_study = {}\n",
    "# alldata_study 用来储存所有数据, keys 用 ts_code 做\n",
    "alldata_study = {}\n",
    "\n",
    "##########################################################\n",
    "# 对所有 basic 中的股票进行研究:\n",
    "for tscode_onestock in basic['ts_code']:\n",
    "    print('i start to study :', tscode_onestock)\n",
    "    onedata_study['ts_code'] = tscode_onestock\n",
    "    ####################################\n",
    "    # 这里一次性取得 平均线数据,比较方便.\n",
    "    oneselect_stockdata = ts.pro_bar(api = pro, ts_code = tscode_onestock, start_date = study_starttime, adj = 'qfq', ma=averagechose_list)\n",
    "    # oneselect_stockdata 记录着研究股票从 study_starttime : 20190101 开始的所有数据.\n",
    "    onedata_study['oneselect_stockdata'] = oneselect_stockdata\n",
    "    analysis_data = find_adjustperiod(oneselect_stockdata)\n",
    "    # analysis_data 是记录符合要求的各个时间段数据\n",
    "    onedata_study['analysis_data'] = analysis_data\n",
    "    ##################################################\n",
    "    # 接下来要对上面analysis_data 中的没一段数据进行分析\n",
    "\n",
    "\n",
    "    ##################################################\n",
    "    alldata_study[tscode_onestock] = onedata_study\n",
    "    break\n",
    "# 对数据逐笔进行检查,找到符合要求的时间段.\n"
   ]
  },
  {
   "cell_type": "code",
   "execution_count": 39,
   "metadata": {},
   "outputs": [
    {
     "output_type": "execute_result",
     "data": {
      "text/plain": "       ts_code trade_date     open     high      low    close  pre_close  \\\n0    000001.SZ   20200826  14.6000  14.6100  14.2800  14.3700    14.6000   \n1    000001.SZ   20200825  14.5600  14.6900  14.4600  14.6000    14.4600   \n2    000001.SZ   20200824  14.5000  14.7100  14.4100  14.4600    14.4500   \n3    000001.SZ   20200821  14.7100  14.7100  14.3200  14.4500    14.5900   \n4    000001.SZ   20200820  15.0100  15.1400  14.5300  14.5900    15.1000   \n..         ...        ...      ...      ...      ...      ...        ...   \n397  000001.SZ   20190108   9.4657   9.4754   9.3586   9.3976     9.4754   \n398  000001.SZ   20190107   9.5727   9.5824   9.3684   9.4754     9.4851   \n399  000001.SZ   20190104   8.9890   9.5532   8.9695   9.4851     9.0279   \n400  000001.SZ   20190103   8.9306   9.0765   8.9014   9.0279     8.9403   \n401  000001.SZ   20190102   9.1349   9.1641   8.9111   8.9403     9.1252   \n\n     change  pct_chg         vol       amount      ma5       ma_v_5    ma10  \\\n0   -0.2300  -1.5753   734117.72  1057274.169  14.4940   994041.150  14.656   \n1    0.1400   0.9682   748320.22  1090756.854  14.6400  1131403.228  14.657   \n2    0.0100   0.0692   919448.86  1338031.969  14.7500  1251791.398  14.610   \n3   -0.1400  -0.9596  1234517.33  1787278.581  14.8960  1721507.186  14.559   \n4   -0.5100  -3.3775  1333801.62  1962605.013  14.9000  1695246.884  14.484   \n..      ...      ...         ...          ...      ...          ...     ...   \n397 -0.0778  -0.8211   402388.11   389247.795   9.2653   740831.820     NaN   \n398 -0.0097  -0.1023   865687.66   841166.430      NaN          NaN     NaN   \n399  0.4572   5.0643  1481159.06  1422149.888      NaN          NaN     NaN   \n400  0.0876   0.9798   415537.95   384457.707      NaN          NaN     NaN   \n401 -0.1849  -2.0263   539386.32   498695.109      NaN          NaN     NaN   \n\n         ma_v_10     ma20       ma_v_20 trans_time  \n0    1294990.030  14.2360  1.426989e+06 2020-08-26  \n1    1381259.428  14.1945  1.466262e+06 2020-08-25  \n2    1566758.195  14.1315  1.489696e+06 2020-08-24  \n3    1633584.344  14.0705  1.537756e+06 2020-08-21  \n4    1609000.448  14.0230  1.567574e+06 2020-08-20  \n..           ...      ...           ...        ...  \n397          NaN      NaN           NaN 2019-01-08  \n398          NaN      NaN           NaN 2019-01-07  \n399          NaN      NaN           NaN 2019-01-04  \n400          NaN      NaN           NaN 2019-01-03  \n401          NaN      NaN           NaN 2019-01-02  \n\n[402 rows x 18 columns]",
      "text/html": "<div>\n<style scoped>\n    .dataframe tbody tr th:only-of-type {\n        vertical-align: middle;\n    }\n\n    .dataframe tbody tr th {\n        vertical-align: top;\n    }\n\n    .dataframe thead th {\n        text-align: right;\n    }\n</style>\n<table border=\"1\" class=\"dataframe\">\n  <thead>\n    <tr style=\"text-align: right;\">\n      <th></th>\n      <th>ts_code</th>\n      <th>trade_date</th>\n      <th>open</th>\n      <th>high</th>\n      <th>low</th>\n      <th>close</th>\n      <th>pre_close</th>\n      <th>change</th>\n      <th>pct_chg</th>\n      <th>vol</th>\n      <th>amount</th>\n      <th>ma5</th>\n      <th>ma_v_5</th>\n      <th>ma10</th>\n      <th>ma_v_10</th>\n      <th>ma20</th>\n      <th>ma_v_20</th>\n      <th>trans_time</th>\n    </tr>\n  </thead>\n  <tbody>\n    <tr>\n      <td>0</td>\n      <td>000001.SZ</td>\n      <td>20200826</td>\n      <td>14.6000</td>\n      <td>14.6100</td>\n      <td>14.2800</td>\n      <td>14.3700</td>\n      <td>14.6000</td>\n      <td>-0.2300</td>\n      <td>-1.5753</td>\n      <td>734117.72</td>\n      <td>1057274.169</td>\n      <td>14.4940</td>\n      <td>994041.150</td>\n      <td>14.656</td>\n      <td>1294990.030</td>\n      <td>14.2360</td>\n      <td>1.426989e+06</td>\n      <td>2020-08-26</td>\n    </tr>\n    <tr>\n      <td>1</td>\n      <td>000001.SZ</td>\n      <td>20200825</td>\n      <td>14.5600</td>\n      <td>14.6900</td>\n      <td>14.4600</td>\n      <td>14.6000</td>\n      <td>14.4600</td>\n      <td>0.1400</td>\n      <td>0.9682</td>\n      <td>748320.22</td>\n      <td>1090756.854</td>\n      <td>14.6400</td>\n      <td>1131403.228</td>\n      <td>14.657</td>\n      <td>1381259.428</td>\n      <td>14.1945</td>\n      <td>1.466262e+06</td>\n      <td>2020-08-25</td>\n    </tr>\n    <tr>\n      <td>2</td>\n      <td>000001.SZ</td>\n      <td>20200824</td>\n      <td>14.5000</td>\n      <td>14.7100</td>\n      <td>14.4100</td>\n      <td>14.4600</td>\n      <td>14.4500</td>\n      <td>0.0100</td>\n      <td>0.0692</td>\n      <td>919448.86</td>\n      <td>1338031.969</td>\n      <td>14.7500</td>\n      <td>1251791.398</td>\n      <td>14.610</td>\n      <td>1566758.195</td>\n      <td>14.1315</td>\n      <td>1.489696e+06</td>\n      <td>2020-08-24</td>\n    </tr>\n    <tr>\n      <td>3</td>\n      <td>000001.SZ</td>\n      <td>20200821</td>\n      <td>14.7100</td>\n      <td>14.7100</td>\n      <td>14.3200</td>\n      <td>14.4500</td>\n      <td>14.5900</td>\n      <td>-0.1400</td>\n      <td>-0.9596</td>\n      <td>1234517.33</td>\n      <td>1787278.581</td>\n      <td>14.8960</td>\n      <td>1721507.186</td>\n      <td>14.559</td>\n      <td>1633584.344</td>\n      <td>14.0705</td>\n      <td>1.537756e+06</td>\n      <td>2020-08-21</td>\n    </tr>\n    <tr>\n      <td>4</td>\n      <td>000001.SZ</td>\n      <td>20200820</td>\n      <td>15.0100</td>\n      <td>15.1400</td>\n      <td>14.5300</td>\n      <td>14.5900</td>\n      <td>15.1000</td>\n      <td>-0.5100</td>\n      <td>-3.3775</td>\n      <td>1333801.62</td>\n      <td>1962605.013</td>\n      <td>14.9000</td>\n      <td>1695246.884</td>\n      <td>14.484</td>\n      <td>1609000.448</td>\n      <td>14.0230</td>\n      <td>1.567574e+06</td>\n      <td>2020-08-20</td>\n    </tr>\n    <tr>\n      <td>...</td>\n      <td>...</td>\n      <td>...</td>\n      <td>...</td>\n      <td>...</td>\n      <td>...</td>\n      <td>...</td>\n      <td>...</td>\n      <td>...</td>\n      <td>...</td>\n      <td>...</td>\n      <td>...</td>\n      <td>...</td>\n      <td>...</td>\n      <td>...</td>\n      <td>...</td>\n      <td>...</td>\n      <td>...</td>\n      <td>...</td>\n    </tr>\n    <tr>\n      <td>397</td>\n      <td>000001.SZ</td>\n      <td>20190108</td>\n      <td>9.4657</td>\n      <td>9.4754</td>\n      <td>9.3586</td>\n      <td>9.3976</td>\n      <td>9.4754</td>\n      <td>-0.0778</td>\n      <td>-0.8211</td>\n      <td>402388.11</td>\n      <td>389247.795</td>\n      <td>9.2653</td>\n      <td>740831.820</td>\n      <td>NaN</td>\n      <td>NaN</td>\n      <td>NaN</td>\n      <td>NaN</td>\n      <td>2019-01-08</td>\n    </tr>\n    <tr>\n      <td>398</td>\n      <td>000001.SZ</td>\n      <td>20190107</td>\n      <td>9.5727</td>\n      <td>9.5824</td>\n      <td>9.3684</td>\n      <td>9.4754</td>\n      <td>9.4851</td>\n      <td>-0.0097</td>\n      <td>-0.1023</td>\n      <td>865687.66</td>\n      <td>841166.430</td>\n      <td>NaN</td>\n      <td>NaN</td>\n      <td>NaN</td>\n      <td>NaN</td>\n      <td>NaN</td>\n      <td>NaN</td>\n      <td>2019-01-07</td>\n    </tr>\n    <tr>\n      <td>399</td>\n      <td>000001.SZ</td>\n      <td>20190104</td>\n      <td>8.9890</td>\n      <td>9.5532</td>\n      <td>8.9695</td>\n      <td>9.4851</td>\n      <td>9.0279</td>\n      <td>0.4572</td>\n      <td>5.0643</td>\n      <td>1481159.06</td>\n      <td>1422149.888</td>\n      <td>NaN</td>\n      <td>NaN</td>\n      <td>NaN</td>\n      <td>NaN</td>\n      <td>NaN</td>\n      <td>NaN</td>\n      <td>2019-01-04</td>\n    </tr>\n    <tr>\n      <td>400</td>\n      <td>000001.SZ</td>\n      <td>20190103</td>\n      <td>8.9306</td>\n      <td>9.0765</td>\n      <td>8.9014</td>\n      <td>9.0279</td>\n      <td>8.9403</td>\n      <td>0.0876</td>\n      <td>0.9798</td>\n      <td>415537.95</td>\n      <td>384457.707</td>\n      <td>NaN</td>\n      <td>NaN</td>\n      <td>NaN</td>\n      <td>NaN</td>\n      <td>NaN</td>\n      <td>NaN</td>\n      <td>2019-01-03</td>\n    </tr>\n    <tr>\n      <td>401</td>\n      <td>000001.SZ</td>\n      <td>20190102</td>\n      <td>9.1349</td>\n      <td>9.1641</td>\n      <td>8.9111</td>\n      <td>8.9403</td>\n      <td>9.1252</td>\n      <td>-0.1849</td>\n      <td>-2.0263</td>\n      <td>539386.32</td>\n      <td>498695.109</td>\n      <td>NaN</td>\n      <td>NaN</td>\n      <td>NaN</td>\n      <td>NaN</td>\n      <td>NaN</td>\n      <td>NaN</td>\n      <td>2019-01-02</td>\n    </tr>\n  </tbody>\n</table>\n<p>402 rows × 18 columns</p>\n</div>"
     },
     "metadata": {},
     "execution_count": 39
    }
   ],
   "source": [
    "oneselect_stockdata"
   ]
  },
  {
   "cell_type": "code",
   "execution_count": 45,
   "metadata": {},
   "outputs": [
    {
     "output_type": "execute_result",
     "data": {
      "text/plain": "       ts_code trade_date    open    high     low   close  pre_close  change  \\\n393  000001.SZ   20190114  9.9423  9.9715  9.7964  9.8353     9.9229 -0.0876   \n394  000001.SZ   20190111  9.8353  9.9423  9.7770  9.9229     9.8256  0.0973   \n395  000001.SZ   20190110  9.6018  9.9229  9.5921  9.8256     9.6699  0.1557   \n396  000001.SZ   20190109  9.4754  9.8061  9.4365  9.6699     9.3976  0.2723   \n397  000001.SZ   20190108  9.4657  9.4754  9.3586  9.3976     9.4754 -0.0778   \n398  000001.SZ   20190107  9.5727  9.5824  9.3684  9.4754     9.4851 -0.0097   \n\n     pct_chg         vol       amount     ma5       ma_v_5  ma10  ma_v_10  \\\n393  -0.8828   500443.59   507862.882  9.7303   780900.054   NaN      NaN   \n394   0.9903   696364.55   708001.802  9.6583   853948.868   NaN      NaN   \n395   1.6102  1071817.66  1079711.035  9.5707  1010907.770   NaN      NaN   \n396   2.8975  1233486.36  1229465.116  9.4112   879651.828   NaN      NaN   \n397  -0.8211   402388.11   389247.795  9.2653   740831.820   NaN      NaN   \n398  -0.1023   865687.66   841166.430     NaN          NaN   NaN      NaN   \n\n     ma20  ma_v_20 trans_time  \n393   NaN      NaN 2019-01-14  \n394   NaN      NaN 2019-01-11  \n395   NaN      NaN 2019-01-10  \n396   NaN      NaN 2019-01-09  \n397   NaN      NaN 2019-01-08  \n398   NaN      NaN 2019-01-07  ",
      "text/html": "<div>\n<style scoped>\n    .dataframe tbody tr th:only-of-type {\n        vertical-align: middle;\n    }\n\n    .dataframe tbody tr th {\n        vertical-align: top;\n    }\n\n    .dataframe thead th {\n        text-align: right;\n    }\n</style>\n<table border=\"1\" class=\"dataframe\">\n  <thead>\n    <tr style=\"text-align: right;\">\n      <th></th>\n      <th>ts_code</th>\n      <th>trade_date</th>\n      <th>open</th>\n      <th>high</th>\n      <th>low</th>\n      <th>close</th>\n      <th>pre_close</th>\n      <th>change</th>\n      <th>pct_chg</th>\n      <th>vol</th>\n      <th>amount</th>\n      <th>ma5</th>\n      <th>ma_v_5</th>\n      <th>ma10</th>\n      <th>ma_v_10</th>\n      <th>ma20</th>\n      <th>ma_v_20</th>\n      <th>trans_time</th>\n    </tr>\n  </thead>\n  <tbody>\n    <tr>\n      <td>393</td>\n      <td>000001.SZ</td>\n      <td>20190114</td>\n      <td>9.9423</td>\n      <td>9.9715</td>\n      <td>9.7964</td>\n      <td>9.8353</td>\n      <td>9.9229</td>\n      <td>-0.0876</td>\n      <td>-0.8828</td>\n      <td>500443.59</td>\n      <td>507862.882</td>\n      <td>9.7303</td>\n      <td>780900.054</td>\n      <td>NaN</td>\n      <td>NaN</td>\n      <td>NaN</td>\n      <td>NaN</td>\n      <td>2019-01-14</td>\n    </tr>\n    <tr>\n      <td>394</td>\n      <td>000001.SZ</td>\n      <td>20190111</td>\n      <td>9.8353</td>\n      <td>9.9423</td>\n      <td>9.7770</td>\n      <td>9.9229</td>\n      <td>9.8256</td>\n      <td>0.0973</td>\n      <td>0.9903</td>\n      <td>696364.55</td>\n      <td>708001.802</td>\n      <td>9.6583</td>\n      <td>853948.868</td>\n      <td>NaN</td>\n      <td>NaN</td>\n      <td>NaN</td>\n      <td>NaN</td>\n      <td>2019-01-11</td>\n    </tr>\n    <tr>\n      <td>395</td>\n      <td>000001.SZ</td>\n      <td>20190110</td>\n      <td>9.6018</td>\n      <td>9.9229</td>\n      <td>9.5921</td>\n      <td>9.8256</td>\n      <td>9.6699</td>\n      <td>0.1557</td>\n      <td>1.6102</td>\n      <td>1071817.66</td>\n      <td>1079711.035</td>\n      <td>9.5707</td>\n      <td>1010907.770</td>\n      <td>NaN</td>\n      <td>NaN</td>\n      <td>NaN</td>\n      <td>NaN</td>\n      <td>2019-01-10</td>\n    </tr>\n    <tr>\n      <td>396</td>\n      <td>000001.SZ</td>\n      <td>20190109</td>\n      <td>9.4754</td>\n      <td>9.8061</td>\n      <td>9.4365</td>\n      <td>9.6699</td>\n      <td>9.3976</td>\n      <td>0.2723</td>\n      <td>2.8975</td>\n      <td>1233486.36</td>\n      <td>1229465.116</td>\n      <td>9.4112</td>\n      <td>879651.828</td>\n      <td>NaN</td>\n      <td>NaN</td>\n      <td>NaN</td>\n      <td>NaN</td>\n      <td>2019-01-09</td>\n    </tr>\n    <tr>\n      <td>397</td>\n      <td>000001.SZ</td>\n      <td>20190108</td>\n      <td>9.4657</td>\n      <td>9.4754</td>\n      <td>9.3586</td>\n      <td>9.3976</td>\n      <td>9.4754</td>\n      <td>-0.0778</td>\n      <td>-0.8211</td>\n      <td>402388.11</td>\n      <td>389247.795</td>\n      <td>9.2653</td>\n      <td>740831.820</td>\n      <td>NaN</td>\n      <td>NaN</td>\n      <td>NaN</td>\n      <td>NaN</td>\n      <td>2019-01-08</td>\n    </tr>\n    <tr>\n      <td>398</td>\n      <td>000001.SZ</td>\n      <td>20190107</td>\n      <td>9.5727</td>\n      <td>9.5824</td>\n      <td>9.3684</td>\n      <td>9.4754</td>\n      <td>9.4851</td>\n      <td>-0.0097</td>\n      <td>-0.1023</td>\n      <td>865687.66</td>\n      <td>841166.430</td>\n      <td>NaN</td>\n      <td>NaN</td>\n      <td>NaN</td>\n      <td>NaN</td>\n      <td>NaN</td>\n      <td>NaN</td>\n      <td>2019-01-07</td>\n    </tr>\n  </tbody>\n</table>\n</div>"
     },
     "metadata": {},
     "execution_count": 45
    }
   ],
   "source": [
    "one_analysis_data = analysis_data[0]\n",
    "one_analysis_data"
   ]
  },
  {
   "cell_type": "code",
   "execution_count": 79,
   "metadata": {
    "tags": []
   },
   "outputs": [
    {
     "output_type": "stream",
     "name": "stdout",
     "text": "dict_keys(['20190115ma5judge', '20190115ma10judge', '20190115ma20judge'])\n2\ndict_keys(['20190116ma5judge', '20190116ma10judge', '20190116ma20judge'])\n2\ndict_keys(['20190117ma5judge', '20190117ma10judge', '20190117ma20judge'])\n2\ndict_keys(['20190118ma5judge', '20190118ma10judge', '20190118ma20judge'])\n2\ndict_keys(['20190121ma5judge', '20190121ma10judge', '20190121ma20judge'])\n2\ndict_keys(['20190122ma5judge', '20190122ma10judge', '20190122ma20judge'])\n2\ndict_keys(['20190123ma5judge', '20190123ma10judge', '20190123ma20judge'])\n2\ndict_keys(['20190124ma5judge', '20190124ma10judge', '20190124ma20judge'])\n2\ndict_keys(['20190125ma5judge', '20190125ma10judge', '20190125ma20judge'])\n2\ndict_keys(['20190128ma5judge', '20190128ma10judge', '20190128ma20judge'])\n2\n"
    }
   ],
   "source": [
    "#逐一检验后续日期中是否有可以超过均线的天数.\n",
    "# 检验的日期长度设定为: test_len\n",
    "test_len = 10 # 检验后续三天的\n",
    "\n",
    "##########################################################################\n",
    "enddate = oneselect_stockdata[oneselect_stockdata['trade_date'] == one_analysis_data.iloc[0]['trade_date']]\n",
    "for i in range(test_len):\n",
    "    test_date = oneselect_stockdata.iloc[enddate.index[0]-1-i]\n",
    "    one_judge_test = upstart_or_not(one_average_line = test_date)\n",
    "    print(one_judge_test.keys())\n",
    "    print(sum(one_judge_test.values()))\n",
    "    #break\n"
   ]
  },
  {
   "cell_type": "code",
   "execution_count": 76,
   "metadata": {},
   "outputs": [
    {
     "output_type": "execute_result",
     "data": {
      "text/plain": "ts_code                 000001.SZ\ntrade_date               20190128\nopen                      10.7401\nhigh                      10.8373\nlow                       10.5844\nclose                     10.6428\npre_close                 10.7011\nchange                    -0.0583\npct_chg                   -0.5448\nvol                   1.03591e+06\namount                1.14185e+06\nma5                       10.3295\nma_v_5                     957161\nma10                      10.1982\nma_v_10                    858662\nma20                          NaN\nma_v_20                       NaN\ntrans_time    2019-01-28 00:00:00\nName: 383, dtype: object"
     },
     "metadata": {},
     "execution_count": 76
    }
   ],
   "source": [
    "test_date"
   ]
  },
  {
   "cell_type": "code",
   "execution_count": 50,
   "metadata": {},
   "outputs": [
    {
     "output_type": "execute_result",
     "data": {
      "text/plain": "       ts_code trade_date    open    high     low   close  pre_close  change  \\\n393  000001.SZ   20190114  9.9423  9.9715  9.7964  9.8353     9.9229 -0.0876   \n\n     pct_chg        vol      amount     ma5      ma_v_5  ma10  ma_v_10  ma20  \\\n393  -0.8828  500443.59  507862.882  9.7303  780900.054   NaN      NaN   NaN   \n\n     ma_v_20 trans_time  \n393      NaN 2019-01-14  ",
      "text/html": "<div>\n<style scoped>\n    .dataframe tbody tr th:only-of-type {\n        vertical-align: middle;\n    }\n\n    .dataframe tbody tr th {\n        vertical-align: top;\n    }\n\n    .dataframe thead th {\n        text-align: right;\n    }\n</style>\n<table border=\"1\" class=\"dataframe\">\n  <thead>\n    <tr style=\"text-align: right;\">\n      <th></th>\n      <th>ts_code</th>\n      <th>trade_date</th>\n      <th>open</th>\n      <th>high</th>\n      <th>low</th>\n      <th>close</th>\n      <th>pre_close</th>\n      <th>change</th>\n      <th>pct_chg</th>\n      <th>vol</th>\n      <th>amount</th>\n      <th>ma5</th>\n      <th>ma_v_5</th>\n      <th>ma10</th>\n      <th>ma_v_10</th>\n      <th>ma20</th>\n      <th>ma_v_20</th>\n      <th>trans_time</th>\n    </tr>\n  </thead>\n  <tbody>\n    <tr>\n      <td>393</td>\n      <td>000001.SZ</td>\n      <td>20190114</td>\n      <td>9.9423</td>\n      <td>9.9715</td>\n      <td>9.7964</td>\n      <td>9.8353</td>\n      <td>9.9229</td>\n      <td>-0.0876</td>\n      <td>-0.8828</td>\n      <td>500443.59</td>\n      <td>507862.882</td>\n      <td>9.7303</td>\n      <td>780900.054</td>\n      <td>NaN</td>\n      <td>NaN</td>\n      <td>NaN</td>\n      <td>NaN</td>\n      <td>2019-01-14</td>\n    </tr>\n  </tbody>\n</table>\n</div>"
     },
     "metadata": {},
     "execution_count": 50
    }
   ],
   "source": [
    "oneselect_stockdata[oneselect_stockdata['trade_date'] == one_analysis_data.iloc[0]['trade_date']]"
   ]
  },
  {
   "cell_type": "code",
   "execution_count": 51,
   "metadata": {},
   "outputs": [
    {
     "output_type": "execute_result",
     "data": {
      "text/plain": "ts_code                 000001.SZ\ntrade_date               20190115\nopen                       9.8353\nhigh                      10.0007\nlow                        9.8159\nclose                      9.9618\npre_close                  9.8353\nchange                     0.1265\npct_chg                    1.2862\nvol                        542161\namount                     553027\nma5                        9.8431\nma_v_5                     808855\nma10                       9.5542\nma_v_10                    774843\nma20                          NaN\nma_v_20                       NaN\ntrans_time    2019-01-15 00:00:00\nName: 392, dtype: object"
     },
     "metadata": {},
     "execution_count": 51
    }
   ],
   "source": [
    "test_date"
   ]
  },
  {
   "cell_type": "code",
   "execution_count": 78,
   "metadata": {},
   "outputs": [
    {
     "output_type": "execute_result",
     "data": {
      "text/plain": "{'20190128ma5judge': True,\n '20190128ma10judge': True,\n '20190128ma20judge': False}"
     },
     "metadata": {},
     "execution_count": 78
    }
   ],
   "source": [
    "# 目前认为这个 函数是有用的 要载入\n",
    "# 这里写成一普遍使用的函数.\n",
    "# 这里的测试数据 \n",
    "one_average_line = test_date\n",
    "\n",
    "# 在这套数据里,其实还可以比较成交量的关系.以后作为一个研究方向.\n",
    "# 使用的均线也可以作为一个研究的目标. 目前只选用了 5, 10 ,20 三个均线.\n",
    "# 这里的判定条件可以有三种: 目前先用第一个最宽的标准\n",
    "# criterion_para 是一个重要的参数,用于表示判定标准.可以选择 high, open, close 三总选择\n",
    "# 分别表示用这个区和平均去做比较.\n",
    "# 1, 只要最高价超过均线就算超过: high\n",
    "# 2, 必须开盘价超过均线才算超过: open\n",
    "# 3, \b必须收盘价超过均线才算超过: close\n",
    "\n",
    "criterion_para = 'high'\n",
    "\n",
    "##############################################\n",
    "def upstart_or_not(one_average_line , averagechose_list = [5, 10 , 20], criterion_para = 'high'):\n",
    "    ##############################################\n",
    "    judge_list = {}\n",
    "    for average_one in averagechose_list:\n",
    "        col_one = 'ma' + str(average_one)\n",
    "        onejudge = one_average_line[criterion_para] >= one_average_line[col_one]\n",
    "        judge_list[one_average_line['trade_date'] + col_one + 'judge'] = onejudge\n",
    "    return judge_list\n",
    "\n",
    "one_judge_test = upstart_or_not(one_average_line)\n",
    "one_judge_test"
   ]
  },
  {
   "cell_type": "code",
   "execution_count": 58,
   "metadata": {},
   "outputs": [
    {
     "output_type": "execute_result",
     "data": {
      "text/plain": "ts_code                 000001.SZ\ntrade_date               20190115\nopen                       9.8353\nhigh                      10.0007\nlow                        9.8159\nclose                      9.9618\npre_close                  9.8353\nchange                     0.1265\npct_chg                    1.2862\nvol                        542161\namount                     553027\nma5                        9.8431\nma_v_5                     808855\nma10                       9.5542\nma_v_10                    774843\nma20                          NaN\nma_v_20                       NaN\ntrans_time    2019-01-15 00:00:00\nName: 392, dtype: object"
     },
     "metadata": {},
     "execution_count": 58
    }
   ],
   "source": [
    "one_average_line"
   ]
  },
  {
   "cell_type": "code",
   "execution_count": null,
   "metadata": {},
   "outputs": [],
   "source": []
  },
  {
   "cell_type": "code",
   "execution_count": null,
   "metadata": {},
   "outputs": [],
   "source": []
  }
 ],
 "metadata": {
  "kernelspec": {
   "display_name": "Python 3",
   "language": "python",
   "name": "python3"
  },
  "language_info": {
   "codemirror_mode": {
    "name": "ipython",
    "version": 3
   },
   "file_extension": ".py",
   "mimetype": "text/x-python",
   "name": "python",
   "nbconvert_exporter": "python",
   "pygments_lexer": "ipython3",
   "version": "3.7.1-final"
  }
 },
 "nbformat": 4,
 "nbformat_minor": 4
}