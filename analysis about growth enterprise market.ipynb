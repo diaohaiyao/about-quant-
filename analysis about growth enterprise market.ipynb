{
 "metadata": {
  "language_info": {
   "codemirror_mode": {
    "name": "ipython",
    "version": 3
   },
   "file_extension": ".py",
   "mimetype": "text/x-python",
   "name": "python",
   "nbconvert_exporter": "python",
   "pygments_lexer": "ipython3",
   "version": "3.7.1-final"
  },
  "orig_nbformat": 2,
  "kernelspec": {
   "name": "python_defaultSpec_1598952152336",
   "display_name": "Python 3.7.1 64-bit ('base': conda)"
  }
 },
 "nbformat": 4,
 "nbformat_minor": 2,
 "cells": [
  {
   "cell_type": "code",
   "execution_count": 2,
   "metadata": {},
   "outputs": [],
   "source": [
    "import math\n",
    "import datetime\n",
    "import multiprocessing as mp\n",
    "import tushare as ts\n",
    "import os\n",
    "import numpy as np\n",
    "import pandas as pd\n",
    "import datetime\n",
    "import arrow\n",
    "p = print\n",
    "# tushare 的初始化\n",
    "token = '1212fb28fdc360c768e0bd5fca52afa9c8136809afad540f8cf11bc8'\n",
    "pro = ts.pro_api(token)\n",
    "# 获取当前上市公司列表，包括股票代码，注册地，行业，上市时间等数据\n",
    "basic = pro.stock_basic(list_status = 'L')\n",
    "# 这个 cell 是必须要载入的\n"
   ]
  },
  {
   "cell_type": "markdown",
   "metadata": {},
   "source": [
    "# "
   ]
  },
  {
   "cell_type": "markdown",
   "metadata": {},
   "source": [
    "## 创业板的分析\n",
    "20200824 首批创业板注册制首批企业正式挂牌上市.引发热度.\n",
    "有很多20% 到 15% 的股票, 能不能发现一波...\n",
    "\n",
    "首先要获得所有创业板股票的列表.\n"
   ]
  },
  {
   "cell_type": "code",
   "execution_count": 61,
   "metadata": {
    "tags": []
   },
   "outputs": [
    {
     "output_type": "stream",
     "name": "stdout",
     "text": "{'中小板', '主板', '科创板', '创业板'}\ni get one stock: 300004.SZ\ni get one stock: 300005.SZ\ni get one stock: 300008.SZ\ni get one stock: 300032.SZ\ni get one stock: 300064.SZ\ni get one stock: 300071.SZ\ni get one stock: 300095.SZ\ni get one stock: 300100.SZ\ni get one stock: 300103.SZ\ni get one stock: 300106.SZ\ni get one stock: 300108.SZ\ni get one stock: 300111.SZ\ni get one stock: 300116.SZ\ni get one stock: 300129.SZ\ni get one stock: 300149.SZ\ni get one stock: 300152.SZ\ni get one stock: 300153.SZ\ni get one stock: 300157.SZ\ni get one stock: 300160.SZ\ni get one stock: 300172.SZ\ni get one stock: 300176.SZ\ni get one stock: 300178.SZ\ni get one stock: 300185.SZ\ni get one stock: 300187.SZ\ni get one stock: 300189.SZ\ni get one stock: 300210.SZ\ni get one stock: 300222.SZ\ni get one stock: 300230.SZ\ni get one stock: 300276.SZ\ni get one stock: 300293.SZ\ni get one stock: 300301.SZ\ni get one stock: 300304.SZ\ni get one stock: 300313.SZ\ni get one stock: 300317.SZ\ni get one stock: 300332.SZ\ni get one stock: 300337.SZ\ni get one stock: 300355.SZ\ni get one stock: 300368.SZ\ni get one stock: 300375.SZ\ni get one stock: 300376.SZ\ni get one stock: 300402.SZ\ni get one stock: 300446.SZ\ni get one stock: 300459.SZ\ni get one stock: 300461.SZ\ni get one stock: 300487.SZ\ni get one stock: 300491.SZ\ni get one stock: 300551.SZ\ni get one stock: 300569.SZ\ni get one stock: 300589.SZ\ni get one stock: 300606.SZ\ni get one stock: 300642.SZ\ni get one stock: 300647.SZ\ni get one stock: 300722.SZ\ni get one stock: 300733.SZ\ni get one stock: 300776.SZ\ni get one stock: 300787.SZ\ni get one stock: 300801.SZ\ni get one stock: 300806.SZ\ni get one stock: 300817.SZ\ni get one stock: 300847.SZ\ni get one stock: 300859.SZ\ni get one stock: 300860.SZ\ni get one stock: 300861.SZ\ni get one stock: 300862.SZ\ni get one stock: 300863.SZ\ni get one stock: 300864.SZ\ni get one stock: 300865.SZ\ni get one stock: 300866.SZ\ni get one stock: 300867.SZ\ni get one stock: 300868.SZ\ni get one stock: 300869.SZ\ni get one stock: 300870.SZ\ni get one stock: 300871.SZ\ni get one stock: 300872.SZ\ni get one stock: 300873.SZ\ni get one stock: 300875.SZ\ni get one stock: 300876.SZ\ni get one stock: 300877.SZ\ni get one stock: 300878.SZ\ni get one stock: 300879.SZ\ni get one stock: 300880.SZ\ni get one stock: 300881.SZ\n"
    }
   ],
   "source": [
    "# 通过市场分,把股票分为: '中小板', '主板', '创业板', '科创板'\n",
    "market_list = set(basic['market'])\n",
    "p(market_list)\n",
    "# grouth_list 创业板股票列表.\n",
    "grouth_list = basic[basic['market'] == '创业板']\n",
    "\n",
    "# 研究从 20200101 开始 : 20200824 日首批注册制正式挂牌.\n",
    "study_starttime = '20200101'\n",
    "# 平均线选择的list,目前选择 5, 10 ,20\n",
    "averagechose_list = [5, 10 , 20, 30, 60]\n",
    "###############################################\n",
    "# 将两个数据分开存储:\n",
    "study_criter = 10\n",
    "# 有一天大于某个研究标准(目前是13%, 为了区别于过去的增长,所以设的稍微高一点)的股票存储在up10_dic中\n",
    "up10_dic = dict()\n",
    "# 其他储存在 no10_dic.\n",
    "no10_dic = dict()\n",
    "###############################################\n",
    "#  iwant_len 标记我要取得的股票的数量,\n",
    "iwant_len = 10\n",
    "#################################################\n",
    "# 取得股票数据:\n",
    "for tscode_onestock in grouth_list['ts_code'] :\n",
    "    #print('i start to study :', tscode_onestock)\n",
    "    oneselect_stockdata = ts.pro_bar(api = pro, ts_code = tscode_onestock, start_date = study_starttime, adj = 'qfq', ma=averagechose_list)\n",
    "    ############################################################\n",
    "    # 目前把研究集中在8月份. 只在 所有数据的 前 25 个交易日中寻找符合标准的数据(8月内)\n",
    "    analysisdata = oneselect_stockdata.iloc[:10]\n",
    "\n",
    "    #if len(analysisdata[analysisdata['pct_chg'] > study_criter]) > 0:\n",
    "    # 再不 简单粗暴,直接用 pct_chg 的和作为判定标准得了... 大于 20?...\n",
    "    if sum(analysisdata['pct_chg']) > 20 :\n",
    "        up10_dic[tscode_onestock] = oneselect_stockdata\n",
    "        print('i get one stock:', tscode_onestock)\n",
    "        #if len(up10_dic.keys()) > iwant_len :\n",
    "         #   break\n",
    "    else :\n",
    "        no10_dic[tscode_onestock] = oneselect_stockdata\n",
    "    \n",
    "\n",
    "\n"
   ]
  },
  {
   "cell_type": "code",
   "execution_count": 62,
   "metadata": {},
   "outputs": [],
   "source": [
    "# 把上面的数据暂时储存起来.\n",
    "\n",
    "import pickle\n",
    "output = open('C:/Users/diaoh/Google 云端硬盘/量化面试资料/量化临时/quant for git/about-quant-/about-quant-/up10_dic_growthdata.pkl', 'wb')\n",
    "pickle.dump(up10_dic, output)\n",
    "output.close()\n",
    "\n",
    "output_no10_dic = open('C:/Users/diaoh/Google 云端硬盘/量化面试资料/量化临时/quant for git/about-quant-/about-quant-/no10_dic_growthdata.pkl', 'wb')\n",
    "pickle.dump(no10_dic, output_no10_dic)\n",
    "output.close()"
   ]
  },
  {
   "cell_type": "code",
   "execution_count": 45,
   "metadata": {
    "tags": []
   },
   "outputs": [
    {
     "output_type": "stream",
     "name": "stdout",
     "text": "241\n608\n"
    }
   ],
   "source": [
    "p(len(up10_dic.keys()))\n",
    "p(len(no10_dic.keys()))"
   ]
  },
  {
   "cell_type": "code",
   "execution_count": 60,
   "metadata": {},
   "outputs": [
    {
     "output_type": "execute_result",
     "data": {
      "text/plain": "dict_keys(['300004.SZ', '300005.SZ', '300008.SZ', '300032.SZ', '300064.SZ', '300071.SZ', '300095.SZ', '300100.SZ', '300103.SZ', '300106.SZ', '300108.SZ'])"
     },
     "metadata": {},
     "execution_count": 60
    }
   ],
   "source": [
    "up10_dic.keys()"
   ]
  },
  {
   "cell_type": "code",
   "execution_count": 94,
   "metadata": {
    "tags": []
   },
   "outputs": [
    {
     "output_type": "stream",
     "name": "stdout",
     "text": "74\n"
    }
   ],
   "source": [
    "# 从 no10_dic 中挑出想要的股票, \n",
    "# 储存被选择的股票的 dict\n",
    "select_dict = dict()\n",
    "#####################\n",
    "for one_key,one_value in no10_dic.items():\n",
    "    #p(one_value)\n",
    "    one_analysisdata = one_value.iloc[0]\n",
    "    # 引入一个新的判定标准: k线不要被 \n",
    "    # 首先:要最高价高于5日均线:\n",
    "    if one_analysisdata['open'] > one_analysisdata['ma5'] or one_analysisdata['close'] > one_analysisdata['ma5'] : \n",
    "\n",
    "        # 其次: 5日 10 日均线非常接近?\n",
    "        # 从 300100.SZ 在 20200824 的买入信号中, \n",
    "        #onetestdata = up10_dic['300100.SZ']\n",
    "        #select_test = onetestdata[onetestdata['trade_date'] == '20200824'].iloc[0]\n",
    "        #abs(select_test['ma10'] - select_test['ma5'])/select_test['ma10']\n",
    "        # 从中暂时把这个设定为 0.01 : 及 ma5 和 ma10 在 1% 的范围内...\n",
    "        ma5_from_ma10 = abs(one_analysisdata['ma10'] - one_analysisdata['ma5'])/one_analysisdata['ma10']\n",
    "        #p(ma5_from_ma10)\n",
    "        if ma5_from_ma10 > 0.01 :\n",
    "            # 要是一个断小的k线:\n",
    "            open_from_close = abs(one_analysisdata['open'] - one_analysisdata['close']) / one_analysisdata['close']\n",
    "            if open_from_close < 0.025 :\n",
    "                # 最低价 最好不要超过 时间最久的 均线?\n",
    "                if one_analysisdata['low'] < one_analysisdata['ma20']:\n",
    "                    select_dict[one_key] = one_value\n",
    "\n",
    "#p(select_dict)\n",
    "p(len(select_dict))\n"
   ]
  },
  {
   "cell_type": "code",
   "execution_count": 95,
   "metadata": {},
   "outputs": [
    {
     "output_type": "execute_result",
     "data": {
      "text/plain": "dict_keys(['300002.SZ', '300006.SZ', '300054.SZ', '300081.SZ', '300088.SZ', '300093.SZ', '300098.SZ', '300109.SZ', '300121.SZ', '300142.SZ', '300151.SZ', '300162.SZ', '300173.SZ', '300177.SZ', '300198.SZ', '300219.SZ', '300236.SZ', '300238.SZ', '300275.SZ', '300289.SZ', '300294.SZ', '300302.SZ', '300315.SZ', '300324.SZ', '300326.SZ', '300342.SZ', '300379.SZ', '300389.SZ', '300394.SZ', '300396.SZ', '300406.SZ', '300426.SZ', '300438.SZ', '300457.SZ', '300463.SZ', '300474.SZ', '300479.SZ', '300512.SZ', '300519.SZ', '300523.SZ', '300525.SZ', '300558.SZ', '300559.SZ', '300567.SZ', '300573.SZ', '300577.SZ', '300579.SZ', '300584.SZ', '300599.SZ', '300603.SZ', '300615.SZ', '300618.SZ', '300627.SZ', '300628.SZ', '300633.SZ', '300634.SZ', '300638.SZ', '300672.SZ', '300674.SZ', '300675.SZ', '300741.SZ', '300746.SZ', '300758.SZ', '300768.SZ', '300770.SZ', '300818.SZ', '300823.SZ', '300825.SZ', '300840.SZ', '300841.SZ', '300842.SZ', '300848.SZ', '300855.SZ', '300858.SZ'])"
     },
     "metadata": {},
     "execution_count": 95
    }
   ],
   "source": [
    "select_dict.keys()"
   ]
  },
  {
   "cell_type": "code",
   "execution_count": null,
   "metadata": {},
   "outputs": [],
   "source": []
  },
  {
   "cell_type": "code",
   "execution_count": 87,
   "metadata": {},
   "outputs": [
    {
     "output_type": "execute_result",
     "data": {
      "text/plain": "0.02291325695581024"
     },
     "metadata": {},
     "execution_count": 87
    }
   ],
   "source": [
    "onetestdata = up10_dic['300100.SZ']\n",
    "one_analysisdata = onetestdata[onetestdata['trade_date'] == '20200824'].iloc[0]\n",
    "abs(one_analysisdata['open'] - one_analysisdata['close']) / one_analysisdata['close']\n"
   ]
  },
  {
   "cell_type": "code",
   "execution_count": null,
   "metadata": {},
   "outputs": [],
   "source": []
  },
  {
   "cell_type": "code",
   "execution_count": 99,
   "metadata": {
    "tags": []
   },
   "outputs": [
    {
     "output_type": "stream",
     "name": "stdout",
     "text": "ts_code trade_date     open     high      low    close  pre_close  \\\n0    300559.SZ   20200901  21.4900  21.5200  21.0800  21.2300    21.5300   \n1    300559.SZ   20200831  21.8000  21.9500  21.5300  21.5300    21.5300   \n2    300559.SZ   20200828  21.7800  21.7800  21.0500  21.5300    21.7700   \n3    300559.SZ   20200827  21.4000  21.7700  21.1100  21.7700    21.3000   \n4    300559.SZ   20200826  22.3200  22.4600  21.0600  21.3000    22.2300   \n..         ...        ...      ...      ...      ...      ...        ...   \n157  300559.SZ   20200108  20.1879  22.2893  19.9764  22.2893    20.2606   \n158  300559.SZ   20200107  19.7253  20.4919  19.5337  20.2606    19.8178   \n159  300559.SZ   20200106  19.1636  19.8178  18.9852  19.8178    19.2297   \n160  300559.SZ   20200103  19.4346  19.5403  18.9456  19.2297    19.4279   \n161  300559.SZ   20200102  19.5403  19.6196  18.9059  19.4279    19.3619   \n\n     change  pct_chg        vol  ...      ma5     ma_v_5    ma10    ma_v_10  \\\n0   -0.3000  -1.3934   36698.48  ...  21.4720  46169.134  21.938  52919.324   \n1    0.0000   0.0000   39360.33  ...  21.6720  50470.926  22.136  64161.762   \n2   -0.2400  -1.1024   50236.11  ...  21.9060  52418.428  22.349  72932.953   \n3    0.4700   2.2066   34787.86  ...  22.1160  54799.608  22.546  76693.985   \n4   -0.9300  -4.1835   69762.89  ...  22.1840  58268.928  22.675  85361.792   \n..      ...      ...        ...  ...      ...        ...     ...        ...   \n157  2.0287  10.0130  121643.34  ...  20.2051  60784.048     NaN        NaN   \n158  0.4428   2.2344   56365.40  ...      NaN        NaN     NaN        NaN   \n159  0.5881   3.0583   42473.64  ...      NaN        NaN     NaN        NaN   \n160 -0.1982  -1.0202   37254.59  ...      NaN        NaN     NaN        NaN   \n161  0.0660   0.3409   46183.27  ...      NaN        NaN     NaN        NaN   \n\n        ma20     ma_v_20     ma30     ma_v_30     ma60     ma_v_60  \n0    22.0910  71640.2535  21.9197  69906.6460  22.0472  75908.9405  \n1    22.1075  72707.9550  21.9920  71730.2337  22.0627  75694.6005  \n2    22.1110  73589.2175  22.0360  72108.0180  22.0697  75380.4182  \n3    22.1010  74568.2900  22.0733  72677.4330  22.0790  75130.7508  \n4    22.0575  75746.2965  22.0943  74220.0643  22.0883  75222.8117  \n..       ...         ...      ...         ...      ...         ...  \n157      NaN         NaN      NaN         NaN      NaN         NaN  \n158      NaN         NaN      NaN         NaN      NaN         NaN  \n159      NaN         NaN      NaN         NaN      NaN         NaN  \n160      NaN         NaN      NaN         NaN      NaN         NaN  \n161      NaN         NaN      NaN         NaN      NaN         NaN  \n\n[162 rows x 21 columns]\n"
    }
   ],
   "source": [
    "# 每一个十字星背后都是一波反弹么?\n",
    "# 例子为 300559\n",
    "# 研究从 20200101 开始:\n",
    "# \n",
    "# 两个限定条件:\n",
    "# 这是一个十字星\n",
    "# 前面至少有一天是大跌:\n",
    "# 超跌的结果,使得股价,可以看成最低价原理 5日均线.\n",
    "# 对于 300559, 而言, 在20200807 , 20200619, 20200401, 20200317, 20200203,\n",
    "# 它们的共同点是: 超跌,使得最低价严重远离 5日 均线..所以这个远离的距离是否可以当成一个判断反弹的标准呢?\n",
    "\n",
    "\n",
    "#########################\n",
    "# 研究从 20200101 开始 : 20200824 日首批注册制正式挂牌.\n",
    "study_starttime = '20200101'\n",
    "# 平均线选择的list,目前选择 5, 10 ,20\n",
    "averagechose_list = [5, 10 , 20, 30, 60]\n",
    "\n",
    "\n",
    "\n",
    "#################################################\n",
    "# 取得股票数据:\n",
    "#for tscode_onestock in grouth_list['ts_code'] :\n",
    "tscode_onestock = '300559.SZ'\n",
    "if tscode_onestock == '300559.SZ' :\n",
    "    oneselect_stockdata = ts.pro_bar(api = pro, ts_code = tscode_onestock, start_date = study_starttime, adj = 'qfq', ma=averagechose_list)\n",
    "    p(oneselect_stockdata)\n",
    "    #break"
   ]
  },
  {
   "cell_type": "code",
   "execution_count": 128,
   "metadata": {
    "tags": []
   },
   "outputs": [
    {
     "output_type": "stream",
     "name": "stdout",
     "text": "[-0.0566, -0.034, -0.0388, -0.0718, -0.1127]\n[-0.0274, -0.018, -0.0198, -0.0416, -0.0607]\n"
    }
   ],
   "source": [
    "# 反弹找到的list\n",
    "bounce_list = ['20200728' , '20200619', '20200401', '20200317', '20200203']\n",
    "# 最低点 到 5日均线的距离. list\n",
    "low_from_ma5_list = []\n",
    "# 寻找 ma5 和 ma10 远离距离的标准:\n",
    "ma5_frafrom_ma10_list = []\n",
    "###########################\n",
    "for onedate in  bounce_list :\n",
    "    one_bounce = oneselect_stockdata[oneselect_stockdata['trade_date'] == onedate].iloc[0]\n",
    "    # 计算 最低点 到 5日均线的距离.\n",
    "    low_from_ma5 = (one_bounce['low'] - one_bounce['ma5'])/ one_bounce['ma5']\n",
    "    low_from_ma5_list.append(round(low_from_ma5, 4))\n",
    "    ma5_frafrom_ma10 = (one_bounce['ma5'] - one_bounce['ma10']) / one_bounce['ma10']\n",
    "    ma5_frafrom_ma10_list.append(round(ma5_frafrom_ma10, 4))\n",
    "p(low_from_ma5_list)\n",
    "p(ma5_frafrom_ma10_list)"
   ]
  },
  {
   "cell_type": "code",
   "execution_count": 130,
   "metadata": {
    "tags": []
   },
   "outputs": [
    {
     "output_type": "stream",
     "name": "stdout",
     "text": "['20200121']\n-0.03\n-0.02\n"
    }
   ],
   "source": [
    "# 将符合标准的日期储存起来\n",
    "select_date = []\n",
    "######################################\n",
    "# 标准1 :\n",
    "# 从 low_from_ma5_list 中,来判断反弹的条件.\n",
    "# 如果去其中的最大值的话: 即 -0.034 即 -0.03 来作为反弹的条件.\n",
    "# 判断如果距离 超过了 这个标准 反弹的概率.\n",
    "low_f_ma5_crie = round(max(low_from_ma5_list), 2)\n",
    "#################################\n",
    "# 标准2 :\n",
    "# 其次一个判断标准是: \n",
    "# 5日均线在 10日均线的下面, 并且远离.\n",
    "# 还是先从 ma5_frafrom_ma10_list 中的最大值 作为标准进行判断.\n",
    "ma5_f_ma10_crie = round(max(ma5_frafrom_ma10_list), 2)\n",
    "######################################\n",
    "\n",
    "###########\n",
    "for i in range(len(oneselect_stockdata)):\n",
    "    onedata = oneselect_stockdata.iloc[-i]\n",
    "    low_from_ma5 = (onedata['low'] - onedata['ma5'])/ onedata['ma5']\n",
    "    # 标准1 :\n",
    "    if low_from_ma5 < low_f_ma5_crie :\n",
    "        ma5_frafrom_ma10 = (onedata['ma5'] - onedata['ma10']) / onedata['ma10']\n",
    "        # 标准2 :\n",
    "        if ma5_frafrom_ma10 < ma5_f_ma10_crie:\n",
    "            select_date.append(onedata['trade_date'])\n",
    "\n",
    "\n",
    "            break\n",
    "\n",
    "p(select_date)\n",
    "p(bounce_crie)\n",
    "p(ma5_f_ma10_crie)"
   ]
  },
  {
   "cell_type": "code",
   "execution_count": 117,
   "metadata": {},
   "outputs": [
    {
     "output_type": "execute_result",
     "data": {
      "text/plain": "       ts_code trade_date     open     high      low    close  pre_close  \\\n0    300559.SZ   20200901  21.4900  21.5200  21.0800  21.2300    21.5300   \n1    300559.SZ   20200831  21.8000  21.9500  21.5300  21.5300    21.5300   \n2    300559.SZ   20200828  21.7800  21.7800  21.0500  21.5300    21.7700   \n3    300559.SZ   20200827  21.4000  21.7700  21.1100  21.7700    21.3000   \n4    300559.SZ   20200826  22.3200  22.4600  21.0600  21.3000    22.2300   \n..         ...        ...      ...      ...      ...      ...        ...   \n157  300559.SZ   20200108  20.1879  22.2893  19.9764  22.2893    20.2606   \n158  300559.SZ   20200107  19.7253  20.4919  19.5337  20.2606    19.8178   \n159  300559.SZ   20200106  19.1636  19.8178  18.9852  19.8178    19.2297   \n160  300559.SZ   20200103  19.4346  19.5403  18.9456  19.2297    19.4279   \n161  300559.SZ   20200102  19.5403  19.6196  18.9059  19.4279    19.3619   \n\n     change  pct_chg        vol  ...      ma5     ma_v_5    ma10    ma_v_10  \\\n0   -0.3000  -1.3934   36698.48  ...  21.4720  46169.134  21.938  52919.324   \n1    0.0000   0.0000   39360.33  ...  21.6720  50470.926  22.136  64161.762   \n2   -0.2400  -1.1024   50236.11  ...  21.9060  52418.428  22.349  72932.953   \n3    0.4700   2.2066   34787.86  ...  22.1160  54799.608  22.546  76693.985   \n4   -0.9300  -4.1835   69762.89  ...  22.1840  58268.928  22.675  85361.792   \n..      ...      ...        ...  ...      ...        ...     ...        ...   \n157  2.0287  10.0130  121643.34  ...  20.2051  60784.048     NaN        NaN   \n158  0.4428   2.2344   56365.40  ...      NaN        NaN     NaN        NaN   \n159  0.5881   3.0583   42473.64  ...      NaN        NaN     NaN        NaN   \n160 -0.1982  -1.0202   37254.59  ...      NaN        NaN     NaN        NaN   \n161  0.0660   0.3409   46183.27  ...      NaN        NaN     NaN        NaN   \n\n        ma20     ma_v_20     ma30     ma_v_30     ma60     ma_v_60  \n0    22.0910  71640.2535  21.9197  69906.6460  22.0472  75908.9405  \n1    22.1075  72707.9550  21.9920  71730.2337  22.0627  75694.6005  \n2    22.1110  73589.2175  22.0360  72108.0180  22.0697  75380.4182  \n3    22.1010  74568.2900  22.0733  72677.4330  22.0790  75130.7508  \n4    22.0575  75746.2965  22.0943  74220.0643  22.0883  75222.8117  \n..       ...         ...      ...         ...      ...         ...  \n157      NaN         NaN      NaN         NaN      NaN         NaN  \n158      NaN         NaN      NaN         NaN      NaN         NaN  \n159      NaN         NaN      NaN         NaN      NaN         NaN  \n160      NaN         NaN      NaN         NaN      NaN         NaN  \n161      NaN         NaN      NaN         NaN      NaN         NaN  \n\n[162 rows x 21 columns]",
      "text/html": "<div>\n<style scoped>\n    .dataframe tbody tr th:only-of-type {\n        vertical-align: middle;\n    }\n\n    .dataframe tbody tr th {\n        vertical-align: top;\n    }\n\n    .dataframe thead th {\n        text-align: right;\n    }\n</style>\n<table border=\"1\" class=\"dataframe\">\n  <thead>\n    <tr style=\"text-align: right;\">\n      <th></th>\n      <th>ts_code</th>\n      <th>trade_date</th>\n      <th>open</th>\n      <th>high</th>\n      <th>low</th>\n      <th>close</th>\n      <th>pre_close</th>\n      <th>change</th>\n      <th>pct_chg</th>\n      <th>vol</th>\n      <th>...</th>\n      <th>ma5</th>\n      <th>ma_v_5</th>\n      <th>ma10</th>\n      <th>ma_v_10</th>\n      <th>ma20</th>\n      <th>ma_v_20</th>\n      <th>ma30</th>\n      <th>ma_v_30</th>\n      <th>ma60</th>\n      <th>ma_v_60</th>\n    </tr>\n  </thead>\n  <tbody>\n    <tr>\n      <td>0</td>\n      <td>300559.SZ</td>\n      <td>20200901</td>\n      <td>21.4900</td>\n      <td>21.5200</td>\n      <td>21.0800</td>\n      <td>21.2300</td>\n      <td>21.5300</td>\n      <td>-0.3000</td>\n      <td>-1.3934</td>\n      <td>36698.48</td>\n      <td>...</td>\n      <td>21.4720</td>\n      <td>46169.134</td>\n      <td>21.938</td>\n      <td>52919.324</td>\n      <td>22.0910</td>\n      <td>71640.2535</td>\n      <td>21.9197</td>\n      <td>69906.6460</td>\n      <td>22.0472</td>\n      <td>75908.9405</td>\n    </tr>\n    <tr>\n      <td>1</td>\n      <td>300559.SZ</td>\n      <td>20200831</td>\n      <td>21.8000</td>\n      <td>21.9500</td>\n      <td>21.5300</td>\n      <td>21.5300</td>\n      <td>21.5300</td>\n      <td>0.0000</td>\n      <td>0.0000</td>\n      <td>39360.33</td>\n      <td>...</td>\n      <td>21.6720</td>\n      <td>50470.926</td>\n      <td>22.136</td>\n      <td>64161.762</td>\n      <td>22.1075</td>\n      <td>72707.9550</td>\n      <td>21.9920</td>\n      <td>71730.2337</td>\n      <td>22.0627</td>\n      <td>75694.6005</td>\n    </tr>\n    <tr>\n      <td>2</td>\n      <td>300559.SZ</td>\n      <td>20200828</td>\n      <td>21.7800</td>\n      <td>21.7800</td>\n      <td>21.0500</td>\n      <td>21.5300</td>\n      <td>21.7700</td>\n      <td>-0.2400</td>\n      <td>-1.1024</td>\n      <td>50236.11</td>\n      <td>...</td>\n      <td>21.9060</td>\n      <td>52418.428</td>\n      <td>22.349</td>\n      <td>72932.953</td>\n      <td>22.1110</td>\n      <td>73589.2175</td>\n      <td>22.0360</td>\n      <td>72108.0180</td>\n      <td>22.0697</td>\n      <td>75380.4182</td>\n    </tr>\n    <tr>\n      <td>3</td>\n      <td>300559.SZ</td>\n      <td>20200827</td>\n      <td>21.4000</td>\n      <td>21.7700</td>\n      <td>21.1100</td>\n      <td>21.7700</td>\n      <td>21.3000</td>\n      <td>0.4700</td>\n      <td>2.2066</td>\n      <td>34787.86</td>\n      <td>...</td>\n      <td>22.1160</td>\n      <td>54799.608</td>\n      <td>22.546</td>\n      <td>76693.985</td>\n      <td>22.1010</td>\n      <td>74568.2900</td>\n      <td>22.0733</td>\n      <td>72677.4330</td>\n      <td>22.0790</td>\n      <td>75130.7508</td>\n    </tr>\n    <tr>\n      <td>4</td>\n      <td>300559.SZ</td>\n      <td>20200826</td>\n      <td>22.3200</td>\n      <td>22.4600</td>\n      <td>21.0600</td>\n      <td>21.3000</td>\n      <td>22.2300</td>\n      <td>-0.9300</td>\n      <td>-4.1835</td>\n      <td>69762.89</td>\n      <td>...</td>\n      <td>22.1840</td>\n      <td>58268.928</td>\n      <td>22.675</td>\n      <td>85361.792</td>\n      <td>22.0575</td>\n      <td>75746.2965</td>\n      <td>22.0943</td>\n      <td>74220.0643</td>\n      <td>22.0883</td>\n      <td>75222.8117</td>\n    </tr>\n    <tr>\n      <td>...</td>\n      <td>...</td>\n      <td>...</td>\n      <td>...</td>\n      <td>...</td>\n      <td>...</td>\n      <td>...</td>\n      <td>...</td>\n      <td>...</td>\n      <td>...</td>\n      <td>...</td>\n      <td>...</td>\n      <td>...</td>\n      <td>...</td>\n      <td>...</td>\n      <td>...</td>\n      <td>...</td>\n      <td>...</td>\n      <td>...</td>\n      <td>...</td>\n      <td>...</td>\n      <td>...</td>\n    </tr>\n    <tr>\n      <td>157</td>\n      <td>300559.SZ</td>\n      <td>20200108</td>\n      <td>20.1879</td>\n      <td>22.2893</td>\n      <td>19.9764</td>\n      <td>22.2893</td>\n      <td>20.2606</td>\n      <td>2.0287</td>\n      <td>10.0130</td>\n      <td>121643.34</td>\n      <td>...</td>\n      <td>20.2051</td>\n      <td>60784.048</td>\n      <td>NaN</td>\n      <td>NaN</td>\n      <td>NaN</td>\n      <td>NaN</td>\n      <td>NaN</td>\n      <td>NaN</td>\n      <td>NaN</td>\n      <td>NaN</td>\n    </tr>\n    <tr>\n      <td>158</td>\n      <td>300559.SZ</td>\n      <td>20200107</td>\n      <td>19.7253</td>\n      <td>20.4919</td>\n      <td>19.5337</td>\n      <td>20.2606</td>\n      <td>19.8178</td>\n      <td>0.4428</td>\n      <td>2.2344</td>\n      <td>56365.40</td>\n      <td>...</td>\n      <td>NaN</td>\n      <td>NaN</td>\n      <td>NaN</td>\n      <td>NaN</td>\n      <td>NaN</td>\n      <td>NaN</td>\n      <td>NaN</td>\n      <td>NaN</td>\n      <td>NaN</td>\n      <td>NaN</td>\n    </tr>\n    <tr>\n      <td>159</td>\n      <td>300559.SZ</td>\n      <td>20200106</td>\n      <td>19.1636</td>\n      <td>19.8178</td>\n      <td>18.9852</td>\n      <td>19.8178</td>\n      <td>19.2297</td>\n      <td>0.5881</td>\n      <td>3.0583</td>\n      <td>42473.64</td>\n      <td>...</td>\n      <td>NaN</td>\n      <td>NaN</td>\n      <td>NaN</td>\n      <td>NaN</td>\n      <td>NaN</td>\n      <td>NaN</td>\n      <td>NaN</td>\n      <td>NaN</td>\n      <td>NaN</td>\n      <td>NaN</td>\n    </tr>\n    <tr>\n      <td>160</td>\n      <td>300559.SZ</td>\n      <td>20200103</td>\n      <td>19.4346</td>\n      <td>19.5403</td>\n      <td>18.9456</td>\n      <td>19.2297</td>\n      <td>19.4279</td>\n      <td>-0.1982</td>\n      <td>-1.0202</td>\n      <td>37254.59</td>\n      <td>...</td>\n      <td>NaN</td>\n      <td>NaN</td>\n      <td>NaN</td>\n      <td>NaN</td>\n      <td>NaN</td>\n      <td>NaN</td>\n      <td>NaN</td>\n      <td>NaN</td>\n      <td>NaN</td>\n      <td>NaN</td>\n    </tr>\n    <tr>\n      <td>161</td>\n      <td>300559.SZ</td>\n      <td>20200102</td>\n      <td>19.5403</td>\n      <td>19.6196</td>\n      <td>18.9059</td>\n      <td>19.4279</td>\n      <td>19.3619</td>\n      <td>0.0660</td>\n      <td>0.3409</td>\n      <td>46183.27</td>\n      <td>...</td>\n      <td>NaN</td>\n      <td>NaN</td>\n      <td>NaN</td>\n      <td>NaN</td>\n      <td>NaN</td>\n      <td>NaN</td>\n      <td>NaN</td>\n      <td>NaN</td>\n      <td>NaN</td>\n      <td>NaN</td>\n    </tr>\n  </tbody>\n</table>\n<p>162 rows × 21 columns</p>\n</div>"
     },
     "metadata": {},
     "execution_count": 117
    }
   ],
   "source": [
    "oneselect_stockdata"
   ]
  },
  {
   "cell_type": "code",
   "execution_count": null,
   "metadata": {},
   "outputs": [],
   "source": []
  },
  {
   "cell_type": "code",
   "execution_count": null,
   "metadata": {},
   "outputs": [],
   "source": []
  },
  {
   "cell_type": "code",
   "execution_count": null,
   "metadata": {},
   "outputs": [],
   "source": []
  },
  {
   "cell_type": "code",
   "execution_count": null,
   "metadata": {},
   "outputs": [],
   "source": []
  },
  {
   "cell_type": "code",
   "execution_count": null,
   "metadata": {},
   "outputs": [],
   "source": []
  },
  {
   "cell_type": "code",
   "execution_count": null,
   "metadata": {},
   "outputs": [],
   "source": []
  },
  {
   "cell_type": "code",
   "execution_count": null,
   "metadata": {},
   "outputs": [],
   "source": []
  },
  {
   "cell_type": "code",
   "execution_count": null,
   "metadata": {},
   "outputs": [],
   "source": []
  },
  {
   "cell_type": "code",
   "execution_count": null,
   "metadata": {},
   "outputs": [],
   "source": []
  },
  {
   "cell_type": "code",
   "execution_count": null,
   "metadata": {},
   "outputs": [],
   "source": []
  },
  {
   "cell_type": "code",
   "execution_count": null,
   "metadata": {},
   "outputs": [],
   "source": []
  },
  {
   "cell_type": "code",
   "execution_count": null,
   "metadata": {},
   "outputs": [],
   "source": []
  },
  {
   "cell_type": "code",
   "execution_count": null,
   "metadata": {},
   "outputs": [],
   "source": []
  },
  {
   "cell_type": "code",
   "execution_count": null,
   "metadata": {},
   "outputs": [],
   "source": []
  }
 ]
}