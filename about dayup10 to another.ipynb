{
 "metadata": {
  "language_info": {
   "codemirror_mode": {
    "name": "ipython",
    "version": 3
   },
   "file_extension": ".py",
   "mimetype": "text/x-python",
   "name": "python",
   "nbconvert_exporter": "python",
   "pygments_lexer": "ipython3",
   "version": "3.7.4-final"
  },
  "orig_nbformat": 2,
  "kernelspec": {
   "name": "python_defaultSpec_1599025433055",
   "display_name": "Python 3.7.4 64-bit ('anaconda3': virtualenv)"
  }
 },
 "nbformat": 4,
 "nbformat_minor": 2,
 "cells": [
  {
   "cell_type": "markdown",
   "metadata": {},
   "source": [
    "# 在这里分析每天启动看上 20% 股票板块变动的规律\n",
    "## 首先从第一只看上 20% 的股票开始"
   ]
  },
  {
   "cell_type": "code",
   "execution_count": 1,
   "metadata": {},
   "outputs": [
    {
     "output_type": "execute_result",
     "data": {
      "text/plain": "        ts_code  symbol    name area industry market list_date\n0     000001.SZ  000001    平安银行   深圳       银行     主板  19910403\n1     000002.SZ  000002     万科A   深圳     全国地产     主板  19910129\n2     000004.SZ  000004    国农科技   深圳      互联网     主板  19910114\n3     000005.SZ  000005    世纪星源   深圳     环境保护     主板  19901210\n4     000006.SZ  000006    深振业A   深圳     区域地产     主板  19920427\n...         ...     ...     ...  ...      ...    ...       ...\n3956  688596.SH  688596    正帆科技   上海     专用机械    科创板  20200820\n3957  688598.SH  688598    金博股份   湖南     矿物制品    科创板  20200518\n3958  688599.SH  688599    天合光能   江苏     电气设备    科创板  20200610\n3959  688600.SH  688600    皖仪科技   安徽     电器仪表    科创板  20200703\n3960  688981.SH  688981  中芯国际-U   上海      半导体    科创板  20200716\n\n[3961 rows x 7 columns]",
      "text/html": "<div>\n<style scoped>\n    .dataframe tbody tr th:only-of-type {\n        vertical-align: middle;\n    }\n\n    .dataframe tbody tr th {\n        vertical-align: top;\n    }\n\n    .dataframe thead th {\n        text-align: right;\n    }\n</style>\n<table border=\"1\" class=\"dataframe\">\n  <thead>\n    <tr style=\"text-align: right;\">\n      <th></th>\n      <th>ts_code</th>\n      <th>symbol</th>\n      <th>name</th>\n      <th>area</th>\n      <th>industry</th>\n      <th>market</th>\n      <th>list_date</th>\n    </tr>\n  </thead>\n  <tbody>\n    <tr>\n      <th>0</th>\n      <td>000001.SZ</td>\n      <td>000001</td>\n      <td>平安银行</td>\n      <td>深圳</td>\n      <td>银行</td>\n      <td>主板</td>\n      <td>19910403</td>\n    </tr>\n    <tr>\n      <th>1</th>\n      <td>000002.SZ</td>\n      <td>000002</td>\n      <td>万科A</td>\n      <td>深圳</td>\n      <td>全国地产</td>\n      <td>主板</td>\n      <td>19910129</td>\n    </tr>\n    <tr>\n      <th>2</th>\n      <td>000004.SZ</td>\n      <td>000004</td>\n      <td>国农科技</td>\n      <td>深圳</td>\n      <td>互联网</td>\n      <td>主板</td>\n      <td>19910114</td>\n    </tr>\n    <tr>\n      <th>3</th>\n      <td>000005.SZ</td>\n      <td>000005</td>\n      <td>世纪星源</td>\n      <td>深圳</td>\n      <td>环境保护</td>\n      <td>主板</td>\n      <td>19901210</td>\n    </tr>\n    <tr>\n      <th>4</th>\n      <td>000006.SZ</td>\n      <td>000006</td>\n      <td>深振业A</td>\n      <td>深圳</td>\n      <td>区域地产</td>\n      <td>主板</td>\n      <td>19920427</td>\n    </tr>\n    <tr>\n      <th>...</th>\n      <td>...</td>\n      <td>...</td>\n      <td>...</td>\n      <td>...</td>\n      <td>...</td>\n      <td>...</td>\n      <td>...</td>\n    </tr>\n    <tr>\n      <th>3956</th>\n      <td>688596.SH</td>\n      <td>688596</td>\n      <td>正帆科技</td>\n      <td>上海</td>\n      <td>专用机械</td>\n      <td>科创板</td>\n      <td>20200820</td>\n    </tr>\n    <tr>\n      <th>3957</th>\n      <td>688598.SH</td>\n      <td>688598</td>\n      <td>金博股份</td>\n      <td>湖南</td>\n      <td>矿物制品</td>\n      <td>科创板</td>\n      <td>20200518</td>\n    </tr>\n    <tr>\n      <th>3958</th>\n      <td>688599.SH</td>\n      <td>688599</td>\n      <td>天合光能</td>\n      <td>江苏</td>\n      <td>电气设备</td>\n      <td>科创板</td>\n      <td>20200610</td>\n    </tr>\n    <tr>\n      <th>3959</th>\n      <td>688600.SH</td>\n      <td>688600</td>\n      <td>皖仪科技</td>\n      <td>安徽</td>\n      <td>电器仪表</td>\n      <td>科创板</td>\n      <td>20200703</td>\n    </tr>\n    <tr>\n      <th>3960</th>\n      <td>688981.SH</td>\n      <td>688981</td>\n      <td>中芯国际-U</td>\n      <td>上海</td>\n      <td>半导体</td>\n      <td>科创板</td>\n      <td>20200716</td>\n    </tr>\n  </tbody>\n</table>\n<p>3961 rows × 7 columns</p>\n</div>"
     },
     "metadata": {},
     "execution_count": 1
    }
   ],
   "source": [
    "# 这套东西几乎是必须读取的.\n",
    "\n",
    "import math\n",
    "import datetime\n",
    "import multiprocessing as mp\n",
    "import tushare as ts\n",
    "import os\n",
    "import numpy as np\n",
    "import pandas as pd\n",
    "import datetime\n",
    "p = print\n",
    "# tushare 的初始化\n",
    "token = '1212fb28fdc360c768e0bd5fca52afa9c8136809afad540f8cf11bc8'\n",
    "pro = ts.pro_api(token)\n",
    "# 获取当前上市公司列表，包括股票代码，注册地，行业，上市时间等数据\n",
    "basic = pro.stock_basic(list_status = 'L')\n",
    "# 这个 cell 是必须要载入的\n",
    "basic"
   ]
  },
  {
   "cell_type": "code",
   "execution_count": 12,
   "metadata": {
    "tags": []
   },
   "outputs": [
    {
     "output_type": "stream",
     "name": "stdout",
     "text": "i get one:  300004.SZ  at  20200828\ni get one:  300007.SZ  at  20200831\ni get one:  300008.SZ  at  20200828\ni get one:  300051.SZ  at  20200825\ni get one:  300064.SZ  at  20200825\ni get one:  300071.SZ  at  20200825\ni get one:  300083.SZ  at  20200824\ni get one:  300095.SZ  at  20200901\ni get one:  300100.SZ  at  20200828\ni get one:  300106.SZ  at  20200824\ni get one:  300116.SZ  at  20200901\n"
    }
   ],
   "source": [
    "# 从 basic 中选出第一个上涨 20 的股票.\n",
    "# 研究从 20200801 开始 : 首批注册制 是从 20200824 开始实行的.\n",
    "study_starttime = '20200801'\n",
    "# 先挑选的股票数量:\n",
    "len_limit = 10\n",
    "# 储存数据:\n",
    "# 一个数据目前先用 dict 先存储一下\n",
    "one_select = dict()\n",
    "# select_up20 储存所有数据\n",
    "select_up20 = dict()\n",
    "\n",
    "\n",
    "for tscode_onestock in basic['ts_code']:\n",
    "    oneselect_stockdata = ts.pro_bar(api = pro, ts_code = tscode_onestock, start_date = study_starttime, adj = 'qfq', ma=[5, 10,20])\n",
    "    for i in range(len(oneselect_stockdata)):\n",
    "        one_analysis = oneselect_stockdata.iloc[-i]\n",
    "        if one_analysis['pct_chg'] > 11 and one_analysis['pct_chg'] < 20:\n",
    "            one_select['ts_code'] = tscode_onestock\n",
    "            one_select['choose_date'] = one_analysis['trade_date']\n",
    "            one_select['all_data'] = oneselect_stockdata\n",
    "\n",
    "            p('i get one: ', tscode_onestock, ' at ', one_analysis['trade_date'])\n",
    "            select_up20[tscode_onestock] = one_select\n",
    "            ###########################    \n",
    "            break\n",
    "    if len(select_up20) > len_limit :\n",
    "        break\n"
   ]
  },
  {
   "cell_type": "code",
   "execution_count": 17,
   "metadata": {},
   "outputs": [
    {
     "output_type": "execute_result",
     "data": {
      "text/plain": "0"
     },
     "metadata": {},
     "execution_count": 17
    }
   ],
   "source": [
    "sum(oneselect_stockdata['pct_chg'] > 30)"
   ]
  },
  {
   "cell_type": "code",
   "execution_count": null,
   "metadata": {},
   "outputs": [],
   "source": []
  },
  {
   "cell_type": "code",
   "execution_count": null,
   "metadata": {},
   "outputs": [],
   "source": []
  },
  {
   "cell_type": "code",
   "execution_count": null,
   "metadata": {},
   "outputs": [],
   "source": []
  },
  {
   "cell_type": "code",
   "execution_count": null,
   "metadata": {},
   "outputs": [],
   "source": []
  },
  {
   "cell_type": "code",
   "execution_count": null,
   "metadata": {},
   "outputs": [],
   "source": []
  },
  {
   "cell_type": "code",
   "execution_count": null,
   "metadata": {},
   "outputs": [],
   "source": []
  }
 ]
}