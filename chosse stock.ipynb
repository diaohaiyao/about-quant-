{
 "cells": [
  {
   "cell_type": "code",
   "execution_count": 5,
   "metadata": {},
   "outputs": [
    {
     "output_type": "execute_result",
     "data": {
      "text/plain": "        ts_code  symbol    name area industry market list_date\n0     000001.SZ  000001    平安银行   深圳       银行     主板  19910403\n1     000002.SZ  000002     万科A   深圳     全国地产     主板  19910129\n2     000004.SZ  000004    国农科技   深圳      互联网     主板  19910114\n3     000005.SZ  000005    世纪星源   深圳     环境保护     主板  19901210\n4     000006.SZ  000006    深振业A   深圳     区域地产     主板  19920427\n...         ...     ...     ...  ...      ...    ...       ...\n3956  688596.SH  688596    正帆科技   上海     专用机械    科创板  20200820\n3957  688598.SH  688598    金博股份   湖南     矿物制品    科创板  20200518\n3958  688599.SH  688599    天合光能   江苏     电气设备    科创板  20200610\n3959  688600.SH  688600    皖仪科技   安徽     电器仪表    科创板  20200703\n3960  688981.SH  688981  中芯国际-U   上海      半导体    科创板  20200716\n\n[3961 rows x 7 columns]",
      "text/html": "<div>\n<style scoped>\n    .dataframe tbody tr th:only-of-type {\n        vertical-align: middle;\n    }\n\n    .dataframe tbody tr th {\n        vertical-align: top;\n    }\n\n    .dataframe thead th {\n        text-align: right;\n    }\n</style>\n<table border=\"1\" class=\"dataframe\">\n  <thead>\n    <tr style=\"text-align: right;\">\n      <th></th>\n      <th>ts_code</th>\n      <th>symbol</th>\n      <th>name</th>\n      <th>area</th>\n      <th>industry</th>\n      <th>market</th>\n      <th>list_date</th>\n    </tr>\n  </thead>\n  <tbody>\n    <tr>\n      <th>0</th>\n      <td>000001.SZ</td>\n      <td>000001</td>\n      <td>平安银行</td>\n      <td>深圳</td>\n      <td>银行</td>\n      <td>主板</td>\n      <td>19910403</td>\n    </tr>\n    <tr>\n      <th>1</th>\n      <td>000002.SZ</td>\n      <td>000002</td>\n      <td>万科A</td>\n      <td>深圳</td>\n      <td>全国地产</td>\n      <td>主板</td>\n      <td>19910129</td>\n    </tr>\n    <tr>\n      <th>2</th>\n      <td>000004.SZ</td>\n      <td>000004</td>\n      <td>国农科技</td>\n      <td>深圳</td>\n      <td>互联网</td>\n      <td>主板</td>\n      <td>19910114</td>\n    </tr>\n    <tr>\n      <th>3</th>\n      <td>000005.SZ</td>\n      <td>000005</td>\n      <td>世纪星源</td>\n      <td>深圳</td>\n      <td>环境保护</td>\n      <td>主板</td>\n      <td>19901210</td>\n    </tr>\n    <tr>\n      <th>4</th>\n      <td>000006.SZ</td>\n      <td>000006</td>\n      <td>深振业A</td>\n      <td>深圳</td>\n      <td>区域地产</td>\n      <td>主板</td>\n      <td>19920427</td>\n    </tr>\n    <tr>\n      <th>...</th>\n      <td>...</td>\n      <td>...</td>\n      <td>...</td>\n      <td>...</td>\n      <td>...</td>\n      <td>...</td>\n      <td>...</td>\n    </tr>\n    <tr>\n      <th>3956</th>\n      <td>688596.SH</td>\n      <td>688596</td>\n      <td>正帆科技</td>\n      <td>上海</td>\n      <td>专用机械</td>\n      <td>科创板</td>\n      <td>20200820</td>\n    </tr>\n    <tr>\n      <th>3957</th>\n      <td>688598.SH</td>\n      <td>688598</td>\n      <td>金博股份</td>\n      <td>湖南</td>\n      <td>矿物制品</td>\n      <td>科创板</td>\n      <td>20200518</td>\n    </tr>\n    <tr>\n      <th>3958</th>\n      <td>688599.SH</td>\n      <td>688599</td>\n      <td>天合光能</td>\n      <td>江苏</td>\n      <td>电气设备</td>\n      <td>科创板</td>\n      <td>20200610</td>\n    </tr>\n    <tr>\n      <th>3959</th>\n      <td>688600.SH</td>\n      <td>688600</td>\n      <td>皖仪科技</td>\n      <td>安徽</td>\n      <td>电器仪表</td>\n      <td>科创板</td>\n      <td>20200703</td>\n    </tr>\n    <tr>\n      <th>3960</th>\n      <td>688981.SH</td>\n      <td>688981</td>\n      <td>中芯国际-U</td>\n      <td>上海</td>\n      <td>半导体</td>\n      <td>科创板</td>\n      <td>20200716</td>\n    </tr>\n  </tbody>\n</table>\n<p>3961 rows × 7 columns</p>\n</div>"
     },
     "metadata": {},
     "execution_count": 5
    }
   ],
   "source": [
    "# 这套东西几乎是必须读取的.\n",
    "\n",
    "import math\n",
    "import datetime\n",
    "import multiprocessing as mp\n",
    "import tushare as ts\n",
    "import os\n",
    "import numpy as np\n",
    "import pandas as pd\n",
    "import datetime\n",
    "p = print\n",
    "# tushare 的初始化\n",
    "token = '1212fb28fdc360c768e0bd5fca52afa9c8136809afad540f8cf11bc8'\n",
    "pro = ts.pro_api(token)\n",
    "# 获取当前上市公司列表，包括股票代码，注册地，行业，上市时间等数据\n",
    "basic = pro.stock_basic(list_status = 'L')\n",
    "# 这个 cell 是必须要载入的\n",
    "basic"
   ]
  },
  {
   "cell_type": "markdown",
   "metadata": {},
   "source": [
    "# 选择股票有关\n",
    "## 选择几天横盘, 并且超过均线的股票\n",
    "\n",
    "如 603466 从20200819 到 20200831 的行情\n",
    "\n",
    "首先当然是导入数据"
   ]
  },
  {
   "cell_type": "code",
   "execution_count": 51,
   "metadata": {},
   "outputs": [
    {
     "output_type": "error",
     "ename": "TypeError",
     "evalue": "object of type 'NoneType' has no len()",
     "traceback": [
      "\u001b[0;31m---------------------------------------------------------------------------\u001b[0m",
      "\u001b[0;31mTypeError\u001b[0m                                 Traceback (most recent call last)",
      "\u001b[0;32m<ipython-input-51-7aa0e6bccfc3>\u001b[0m in \u001b[0;36m<module>\u001b[0;34m\u001b[0m\n\u001b[1;32m     28\u001b[0m \u001b[0;32mfor\u001b[0m \u001b[0mtscode_onestock\u001b[0m \u001b[0;32min\u001b[0m \u001b[0mMargin_list\u001b[0m\u001b[0;34m:\u001b[0m\u001b[0;34m\u001b[0m\u001b[0;34m\u001b[0m\u001b[0m\n\u001b[1;32m     29\u001b[0m     \u001b[0moneselect_stockdata\u001b[0m \u001b[0;34m=\u001b[0m \u001b[0mts\u001b[0m\u001b[0;34m.\u001b[0m\u001b[0mpro_bar\u001b[0m\u001b[0;34m(\u001b[0m\u001b[0mapi\u001b[0m \u001b[0;34m=\u001b[0m \u001b[0mpro\u001b[0m\u001b[0;34m,\u001b[0m \u001b[0mts_code\u001b[0m \u001b[0;34m=\u001b[0m \u001b[0mtscode_onestock\u001b[0m\u001b[0;34m,\u001b[0m \u001b[0mstart_date\u001b[0m \u001b[0;34m=\u001b[0m \u001b[0mstudy_starttime\u001b[0m\u001b[0;34m,\u001b[0m \u001b[0madj\u001b[0m \u001b[0;34m=\u001b[0m \u001b[0;34m'qfq'\u001b[0m\u001b[0;34m,\u001b[0m \u001b[0mma\u001b[0m\u001b[0;34m=\u001b[0m\u001b[0;34m[\u001b[0m\u001b[0;36m5\u001b[0m\u001b[0;34m,\u001b[0m \u001b[0;36m10\u001b[0m\u001b[0;34m,\u001b[0m\u001b[0;36m20\u001b[0m\u001b[0;34m]\u001b[0m\u001b[0;34m)\u001b[0m\u001b[0;34m\u001b[0m\u001b[0;34m\u001b[0m\u001b[0m\n\u001b[0;32m---> 30\u001b[0;31m     \u001b[0;32mif\u001b[0m \u001b[0mlen\u001b[0m\u001b[0;34m(\u001b[0m\u001b[0moneselect_stockdata\u001b[0m\u001b[0;34m)\u001b[0m \u001b[0;34m!=\u001b[0m \u001b[0;36m0\u001b[0m \u001b[0;34m:\u001b[0m\u001b[0;34m\u001b[0m\u001b[0;34m\u001b[0m\u001b[0m\n\u001b[0m\u001b[1;32m     31\u001b[0m         \u001b[0;31m############################\u001b[0m\u001b[0;34m\u001b[0m\u001b[0;34m\u001b[0m\u001b[0;34m\u001b[0m\u001b[0m\n\u001b[1;32m     32\u001b[0m         \u001b[0;31m#计算一个平均pct_chg, 作为判定标准\u001b[0m\u001b[0;34m\u001b[0m\u001b[0;34m\u001b[0m\u001b[0;34m\u001b[0m\u001b[0m\n",
      "\u001b[0;31mTypeError\u001b[0m: object of type 'NoneType' has no len()"
     ]
    }
   ],
   "source": [
    "# 从 basic 中选出所有在长期横盘的股票.\n",
    "# 研究从 20200101 开始\n",
    "study_starttime = '20200101'\n",
    "#####################################\n",
    "# 设定一个检测天数:check_len\n",
    "\n",
    "check_len = 15\n",
    "# 找一段 ,在这一段里找跌幅绝大多数在 2% 以内, 偶尔有两个会在 3%左右.这个限制用 in2_limit 表示\n",
    "in2_limit = 0.7\n",
    "in3_limit = 0.95\n",
    "#############################\n",
    "# selectdata_list 用于储存最后选择出来的股票时间段.\n",
    "selectdata_list = []\n",
    "#############################\n",
    "# 融资融券交易明细\n",
    "# Margin trading details\n",
    "Margin_df = pro.margin_detail(trade_date='20200831')\n",
    "Margin_list = Margin_df['ts_code']\n",
    "\n",
    "\n",
    "#############################################\n",
    "# 对所有 basic 中的股票进行研究:\n",
    "# 目前测试阶段每次选出 10 个作为观察的例子, 用 select_len 做标记:\n",
    "select_len = 10\n",
    "#############################\n",
    "#for tscode_onestock in basic['ts_code']:\n",
    "# 从融资融券中选择看看\n",
    "for tscode_onestock in Margin_list:\n",
    "    oneselect_stockdata = ts.pro_bar(api = pro, ts_code = tscode_onestock, start_date = study_starttime, adj = 'qfq', ma=[5, 10,20])\n",
    "    if len(oneselect_stockdata) != 0 :\n",
    "        ############################\n",
    "        #计算一个平均pct_chg, 作为判定标准\n",
    "        mean_pctchg = round(np.mean(abs(oneselect_stockdata['pct_chg'])), 4)\n",
    "        ###########################\n",
    "        analysis_data = oneselect_stockdata.iloc[:check_len]\n",
    "        # 要让研究期限内下跌的次数不能高于 60%\n",
    "        down_rate = sum(analysis_data['pct_chg'] < 0) / len(analysis_data)\n",
    "        if down_rate < 0.6:\n",
    "            up2_now = sum(abs(analysis_data['pct_chg']) <= mean_pctchg)/len(analysis_data)\n",
    "            if up2_now > in2_limit :\n",
    "                up3_now = sum(abs(analysis_data['pct_chg']) <= (mean_pctchg *1.5))/len(analysis_data)\n",
    "                if up3_now > in3_limit :\n",
    "                    # 这里是检验,让开盘收盘很接近.\n",
    "                    close_beyond_open = []\n",
    "                    for i in range(len(analysis_data)):\n",
    "                        temp_data = (analysis_data.iloc[i,2] - analysis_data.iloc[i,5])/analysis_data.iloc[i,5]\n",
    "                        close_beyond_open.append(round(temp_data,5))\n",
    "                    up5_sum = sum(abs(np.array(close_beyond_open)) > (mean_pctchg * 0.01))\n",
    "                    if up5_sum == 0 :\n",
    "                        # 让最近 3 天(待定) 的5 日均线在最高价和最低价之间.\n",
    "                        near1 = analysis_data.iloc[0]\n",
    "                        # 最后一天 单纯超过也算过关 \n",
    "                        if (near1['high'] > near1['ma5'] and near1['low'] < near1['ma5']) or (near1['high']  > near1['ma5']):\n",
    "                            near2 = analysis_data.iloc[1]\n",
    "                            if near2['high'] > near2['ma5'] and near2['low'] < near2['ma5'] :\n",
    "                                near3 = analysis_data.iloc[2]\n",
    "                                if near3['high'] > near3['ma5'] and near3['low'] < near3['ma5'] :\n",
    "                                    ######### 将符合上诉所有要求的股票的 ts_code 放进 list.\n",
    "                                    selectdata_list.append(analysis_data['ts_code'].iloc[0])\n",
    "                    \n",
    "    if len(selectdata_list) > select_len :\n",
    "        break\n",
    "                \n",
    "        \n",
    "                #break\n",
    "\n",
    "\n",
    "# 因为读取的数据,只能从前一天开始,而我们要寻找的股票是在当天突破均线的股票.\n",
    "# 所以在程序里目前只是挑选一直在横盘的股票.\n",
    "# 突破均线,在之后的高频收集数据的 code 中体现.\n",
    "\n",
    "\n",
    "\n",
    "#p(oneselect_stockdata[0])"
   ]
  },
  {
   "cell_type": "code",
   "execution_count": null,
   "metadata": {},
   "outputs": [],
   "source": []
  },
  {
   "cell_type": "code",
   "execution_count": 50,
   "metadata": {},
   "outputs": [
    {
     "output_type": "execute_result",
     "data": {
      "text/plain": "     trade_date    ts_code          rzye          rqye        rzmre  \\\n0      20200831  000001.SZ  4.076781e+09  8.014255e+08  208107728.0   \n1      20200831  000002.SZ  5.817807e+09  1.105997e+09  394381658.0   \n2      20200831  000006.SZ  7.041911e+08  2.255670e+06   22572885.0   \n3      20200831  000008.SZ  3.610076e+08  1.178606e+07   13648894.0   \n4      20200831  000009.SZ  1.804865e+09  2.676884e+07   67165575.0   \n...         ...        ...           ...           ...          ...   \n1877   20200831  688596.SH  8.145839e+07  8.312236e+07   23563127.0   \n1878   20200831  688598.SH  1.750226e+08  5.019760e+07    7005656.0   \n1879   20200831  688599.SH  2.688857e+08  1.860653e+07   15815254.0   \n1880   20200831  688600.SH  4.761654e+07  3.935603e+06    2427385.0   \n1881   20200831  688981.SH  3.301591e+09  7.622578e+08  252571756.0   \n\n            rqyl        rzche     rqchl      rqmcl        rzrqye  \n0     53144926.0  272449024.0  518900.0  2960300.0  4.878207e+09  \n1     40557293.0  235892846.0  166698.0  2187176.0  6.923804e+09  \n2       353000.0   17632367.0  101700.0      100.0  7.064467e+08  \n3      3864280.0   30254661.0   86800.0   170400.0  3.727936e+08  \n4      3499195.0   68965073.0  136200.0   118200.0  1.831634e+09  \n...          ...          ...       ...        ...           ...  \n1877   3127252.0   22282035.0  123794.0    69800.0  1.645807e+08  \n1878    485517.0    5417831.0   12925.0    15544.0  2.252202e+08  \n1879   1144313.0   15081908.0   41701.0   104216.0  2.874922e+08  \n1880    154156.0     599630.0   25735.0    10443.0  5.155214e+07  \n1881  11431580.0  224643405.0  692544.0  1061825.0  4.063849e+09  \n\n[1882 rows x 10 columns]",
      "text/html": "<div>\n<style scoped>\n    .dataframe tbody tr th:only-of-type {\n        vertical-align: middle;\n    }\n\n    .dataframe tbody tr th {\n        vertical-align: top;\n    }\n\n    .dataframe thead th {\n        text-align: right;\n    }\n</style>\n<table border=\"1\" class=\"dataframe\">\n  <thead>\n    <tr style=\"text-align: right;\">\n      <th></th>\n      <th>trade_date</th>\n      <th>ts_code</th>\n      <th>rzye</th>\n      <th>rqye</th>\n      <th>rzmre</th>\n      <th>rqyl</th>\n      <th>rzche</th>\n      <th>rqchl</th>\n      <th>rqmcl</th>\n      <th>rzrqye</th>\n    </tr>\n  </thead>\n  <tbody>\n    <tr>\n      <th>0</th>\n      <td>20200831</td>\n      <td>000001.SZ</td>\n      <td>4.076781e+09</td>\n      <td>8.014255e+08</td>\n      <td>208107728.0</td>\n      <td>53144926.0</td>\n      <td>272449024.0</td>\n      <td>518900.0</td>\n      <td>2960300.0</td>\n      <td>4.878207e+09</td>\n    </tr>\n    <tr>\n      <th>1</th>\n      <td>20200831</td>\n      <td>000002.SZ</td>\n      <td>5.817807e+09</td>\n      <td>1.105997e+09</td>\n      <td>394381658.0</td>\n      <td>40557293.0</td>\n      <td>235892846.0</td>\n      <td>166698.0</td>\n      <td>2187176.0</td>\n      <td>6.923804e+09</td>\n    </tr>\n    <tr>\n      <th>2</th>\n      <td>20200831</td>\n      <td>000006.SZ</td>\n      <td>7.041911e+08</td>\n      <td>2.255670e+06</td>\n      <td>22572885.0</td>\n      <td>353000.0</td>\n      <td>17632367.0</td>\n      <td>101700.0</td>\n      <td>100.0</td>\n      <td>7.064467e+08</td>\n    </tr>\n    <tr>\n      <th>3</th>\n      <td>20200831</td>\n      <td>000008.SZ</td>\n      <td>3.610076e+08</td>\n      <td>1.178606e+07</td>\n      <td>13648894.0</td>\n      <td>3864280.0</td>\n      <td>30254661.0</td>\n      <td>86800.0</td>\n      <td>170400.0</td>\n      <td>3.727936e+08</td>\n    </tr>\n    <tr>\n      <th>4</th>\n      <td>20200831</td>\n      <td>000009.SZ</td>\n      <td>1.804865e+09</td>\n      <td>2.676884e+07</td>\n      <td>67165575.0</td>\n      <td>3499195.0</td>\n      <td>68965073.0</td>\n      <td>136200.0</td>\n      <td>118200.0</td>\n      <td>1.831634e+09</td>\n    </tr>\n    <tr>\n      <th>...</th>\n      <td>...</td>\n      <td>...</td>\n      <td>...</td>\n      <td>...</td>\n      <td>...</td>\n      <td>...</td>\n      <td>...</td>\n      <td>...</td>\n      <td>...</td>\n      <td>...</td>\n    </tr>\n    <tr>\n      <th>1877</th>\n      <td>20200831</td>\n      <td>688596.SH</td>\n      <td>8.145839e+07</td>\n      <td>8.312236e+07</td>\n      <td>23563127.0</td>\n      <td>3127252.0</td>\n      <td>22282035.0</td>\n      <td>123794.0</td>\n      <td>69800.0</td>\n      <td>1.645807e+08</td>\n    </tr>\n    <tr>\n      <th>1878</th>\n      <td>20200831</td>\n      <td>688598.SH</td>\n      <td>1.750226e+08</td>\n      <td>5.019760e+07</td>\n      <td>7005656.0</td>\n      <td>485517.0</td>\n      <td>5417831.0</td>\n      <td>12925.0</td>\n      <td>15544.0</td>\n      <td>2.252202e+08</td>\n    </tr>\n    <tr>\n      <th>1879</th>\n      <td>20200831</td>\n      <td>688599.SH</td>\n      <td>2.688857e+08</td>\n      <td>1.860653e+07</td>\n      <td>15815254.0</td>\n      <td>1144313.0</td>\n      <td>15081908.0</td>\n      <td>41701.0</td>\n      <td>104216.0</td>\n      <td>2.874922e+08</td>\n    </tr>\n    <tr>\n      <th>1880</th>\n      <td>20200831</td>\n      <td>688600.SH</td>\n      <td>4.761654e+07</td>\n      <td>3.935603e+06</td>\n      <td>2427385.0</td>\n      <td>154156.0</td>\n      <td>599630.0</td>\n      <td>25735.0</td>\n      <td>10443.0</td>\n      <td>5.155214e+07</td>\n    </tr>\n    <tr>\n      <th>1881</th>\n      <td>20200831</td>\n      <td>688981.SH</td>\n      <td>3.301591e+09</td>\n      <td>7.622578e+08</td>\n      <td>252571756.0</td>\n      <td>11431580.0</td>\n      <td>224643405.0</td>\n      <td>692544.0</td>\n      <td>1061825.0</td>\n      <td>4.063849e+09</td>\n    </tr>\n  </tbody>\n</table>\n<p>1882 rows × 10 columns</p>\n</div>"
     },
     "metadata": {},
     "execution_count": 50
    }
   ],
   "source": [
    "# 融资融券交易明细\n",
    "# Margin trading details\n",
    "#Margin_df = pro.margin_detail(trade_date='20200831')\n",
    "#Margin_df['']\n"
   ]
  },
  {
   "cell_type": "code",
   "execution_count": 49,
   "metadata": {},
   "outputs": [
    {
     "output_type": "execute_result",
     "data": {
      "text/plain": "['000551.SZ',\n '000620.SZ',\n '000661.SZ',\n '000918.SZ',\n '000951.SZ',\n '000977.SZ',\n '002001.SZ',\n '002002.SZ',\n '002029.SZ',\n '002169.SZ',\n '002182.SZ']"
     },
     "metadata": {},
     "execution_count": 49
    }
   ],
   "source": [
    "selectdata_list\n",
    "# 000410 这个有问题,应该被去除.\n",
    "\n"
   ]
  },
  {
   "cell_type": "code",
   "execution_count": 7,
   "metadata": {},
   "outputs": [
    {
     "output_type": "execute_result",
     "data": {
      "text/plain": "       ts_code  symbol  name area industry market list_date\n800  002352.SZ  002352  顺丰控股   深圳     仓储物流    中小板  20100205",
      "text/html": "<div>\n<style scoped>\n    .dataframe tbody tr th:only-of-type {\n        vertical-align: middle;\n    }\n\n    .dataframe tbody tr th {\n        vertical-align: top;\n    }\n\n    .dataframe thead th {\n        text-align: right;\n    }\n</style>\n<table border=\"1\" class=\"dataframe\">\n  <thead>\n    <tr style=\"text-align: right;\">\n      <th></th>\n      <th>ts_code</th>\n      <th>symbol</th>\n      <th>name</th>\n      <th>area</th>\n      <th>industry</th>\n      <th>market</th>\n      <th>list_date</th>\n    </tr>\n  </thead>\n  <tbody>\n    <tr>\n      <th>800</th>\n      <td>002352.SZ</td>\n      <td>002352</td>\n      <td>顺丰控股</td>\n      <td>深圳</td>\n      <td>仓储物流</td>\n      <td>中小板</td>\n      <td>20100205</td>\n    </tr>\n  </tbody>\n</table>\n</div>"
     },
     "metadata": {},
     "execution_count": 7
    }
   ],
   "source": [
    "basic[basic['ts_code'] == '002352.SZ']"
   ]
  },
  {
   "cell_type": "code",
   "execution_count": 13,
   "metadata": {},
   "outputs": [
    {
     "output_type": "execute_result",
     "data": {
      "text/plain": "'603466.SH'"
     },
     "metadata": {},
     "execution_count": 13
    }
   ],
   "source": [
    "basic[basic['name'] == '风语筑'].iloc[0]['ts_code']"
   ]
  },
  {
   "cell_type": "code",
   "execution_count": 14,
   "metadata": {
    "tags": []
   },
   "outputs": [
    {
     "output_type": "stream",
     "name": "stdout",
     "text": "ts_code trade_date    open    high     low   close  pre_close  change  \\\n0    000635.SZ   20200831  7.7900  7.9200  7.7800  7.8000     7.7700  0.0300   \n1    000635.SZ   20200828  7.7100  7.8100  7.6400  7.7700     7.7100  0.0600   \n2    000635.SZ   20200827  7.6300  7.7700  7.6100  7.7100     7.6400  0.0700   \n3    000635.SZ   20200826  7.7200  7.8100  7.6300  7.6400     7.8200 -0.1800   \n4    000635.SZ   20200825  7.8700  7.8800  7.7900  7.8200     7.8800 -0.0600   \n..         ...        ...     ...     ...     ...     ...        ...     ...   \n156  000635.SZ   20200108  7.8973  7.8973  7.6820  7.6918     7.9071 -0.2153   \n157  000635.SZ   20200107  7.7994  7.9168  7.7798  7.9071     7.7994  0.1077   \n158  000635.SZ   20200106  7.7309  7.8483  7.6526  7.7994     7.7994  0.0000   \n159  000635.SZ   20200103  7.8288  7.9756  7.7113  7.7994     7.8190 -0.0196   \n160  000635.SZ   20200102  7.7113  7.8581  7.6722  7.8190     7.6918  0.1272   \n\n     pct_chg       vol     amount     ma5     ma_v_5   ma10    ma_v_10  \\\n0     0.3861  27456.00  21588.684  7.7480  21848.988  7.824  31296.126   \n1     0.7782  23104.99  17841.991  7.7640  22106.988  7.839  32597.026   \n2     0.9162  17691.00  13609.005  7.7720  22284.190  7.845  32861.627   \n3    -2.3018  22220.57  17137.821  7.7860  28858.590  7.860  34411.644   \n4    -0.7614  18772.38  14699.257  7.8680  37037.858  7.867  35063.925   \n..       ...       ...        ...     ...        ...    ...        ...   \n156  -2.7229  45045.00  35821.307  7.8033  46696.630    NaN        NaN   \n157   1.3809  45853.22  36844.269     NaN        NaN    NaN        NaN   \n158   0.0000  42522.00  33766.186     NaN        NaN    NaN        NaN   \n159  -0.2507  48670.40  38959.622     NaN        NaN    NaN        NaN   \n160   1.6537  51392.53  40810.027     NaN        NaN    NaN        NaN   \n\n       ma20     ma_v_20  \n0    7.8560  32840.1340  \n1    7.8710  34444.2350  \n2    7.8800  36518.3795  \n3    7.8910  40294.4410  \n4    7.9015  42004.9825  \n..      ...         ...  \n156     NaN         NaN  \n157     NaN         NaN  \n158     NaN         NaN  \n159     NaN         NaN  \n160     NaN         NaN  \n\n[161 rows x 17 columns]\n"
    }
   ],
   "source": [
    "# 风语筑 的数据\n",
    "FYZ_stockdata = ts.pro_bar(api = pro, ts_code = tscode_onestock, start_date = study_starttime, adj = 'qfq', ma=[5, 10,20])\n",
    "\n",
    "p(FYZ_stockdata)"
   ]
  },
  {
   "cell_type": "code",
   "execution_count": 28,
   "metadata": {
    "tags": []
   },
   "outputs": [
    {
     "output_type": "stream",
     "name": "stdout",
     "text": "True\nTrue\n"
    }
   ],
   "source": [
    "# 观察 风语筑 从20200611 到 20200617 的数据\n",
    "index_20200611 = FYZ_stockdata[FYZ_stockdata['trade_date'] == '20200611'].index[0]\n",
    "# 从 20200611 到 20200617 这五天,是一个调整期(\badjust period), 观察其中的特点.\n",
    "adjperiod = FYZ_stockdata.iloc[index_20200611 - 4 : index_20200611 +1]\n",
    "# 最近这个调整期,5 日均线在 最高价和最低价之间.\n",
    "# 上面这个判定 ,也可以改为 在 : 收盘价 和 开盘价之间... 可以通过实验证实其概率. (这个限制可能太高了... 谨慎考虑)\n",
    "nearone = adjperiod.iloc[0]\n",
    "p(nearone['high'] > nearone['ma5'])\n",
    "p(nearone['low'] < nearone['ma5'] and nearone['high'] > nearone['ma5'])\n",
    "\n"
   ]
  },
  {
   "cell_type": "code",
   "execution_count": null,
   "metadata": {},
   "outputs": [],
   "source": []
  },
  {
   "cell_type": "code",
   "execution_count": null,
   "metadata": {},
   "outputs": [],
   "source": []
  },
  {
   "cell_type": "code",
   "execution_count": null,
   "metadata": {},
   "outputs": [],
   "source": []
  },
  {
   "cell_type": "code",
   "execution_count": null,
   "metadata": {},
   "outputs": [],
   "source": []
  },
  {
   "cell_type": "code",
   "execution_count": null,
   "metadata": {},
   "outputs": [],
   "source": []
  },
  {
   "cell_type": "markdown",
   "metadata": {},
   "source": [
    "### 寻找即时融资融券,又是创业板的股票\n"
   ]
  },
  {
   "cell_type": "code",
   "execution_count": 98,
   "metadata": {
    "tags": []
   },
   "outputs": [
    {
     "output_type": "stream",
     "name": "stdout",
     "text": "['300001.SZ', '300002.SZ', '300003.SZ', '300006.SZ', '300009.SZ', '300010.SZ', '300012.SZ', '300014.SZ', '300015.SZ', '300017.SZ', '300018.SZ', '300020.SZ', '300024.SZ', '300025.SZ', '300026.SZ', '300027.SZ', '300033.SZ', '300034.SZ', '300036.SZ', '300037.SZ', '300038.SZ', '300039.SZ', '300042.SZ', '300053.SZ', '300054.SZ', '300055.SZ', '300058.SZ', '300059.SZ', '300065.SZ', '300066.SZ', '300068.SZ', '300070.SZ', '300072.SZ', '300073.SZ', '300078.SZ', '300079.SZ', '300085.SZ', '300088.SZ', '300091.SZ', '300098.SZ', '300099.SZ', '300101.SZ', '300110.SZ', '300113.SZ', '300115.SZ', '300118.SZ', '300122.SZ', '300123.SZ', '300124.SZ', '300128.SZ', '300130.SZ', '300133.SZ', '300134.SZ', '300136.SZ', '300139.SZ', '300142.SZ', '300144.SZ', '300145.SZ', '300146.SZ', '300147.SZ', '300152.SZ', '300157.SZ', '300166.SZ', '300168.SZ', '300170.SZ', '300174.SZ', '300177.SZ', '300180.SZ', '300182.SZ', '300183.SZ', '300188.SZ', '300189.SZ', '300191.SZ', '300194.SZ', '300197.SZ', '300199.SZ', '300202.SZ', '300203.SZ', '300205.SZ', '300207.SZ', '300212.SZ', '300222.SZ', '300223.SZ', '300226.SZ', '300232.SZ', '300236.SZ', '300237.SZ', '300244.SZ', '300245.SZ', '300251.SZ', '300253.SZ', '300256.SZ', '300257.SZ', '300266.SZ', '300267.SZ', '300271.SZ', '300273.SZ', '300274.SZ', '300284.SZ', '300285.SZ', '300287.SZ', '300294.SZ', '300296.SZ', '300297.SZ', '300299.SZ', '300300.SZ', '300302.SZ', '300308.SZ', '300310.SZ', '300311.SZ', '300315.SZ', '300316.SZ', '300322.SZ', '300324.SZ', '300326.SZ', '300327.SZ', '300328.SZ', '300333.SZ', '300339.SZ', '300342.SZ', '300343.SZ', '300346.SZ', '300347.SZ', '300348.SZ', '300349.SZ', '300352.SZ', '300353.SZ', '300355.SZ', '300356.SZ', '300357.SZ', '300366.SZ', '300367.SZ', '300369.SZ', '300370.SZ', '300373.SZ', '300377.SZ', '300378.SZ', '300379.SZ', '300383.SZ', '300394.SZ', '300397.SZ', '300398.SZ', '300401.SZ', '300408.SZ', '300413.SZ', '300414.SZ', '300418.SZ', '300429.SZ', '300433.SZ', '300450.SZ', '300451.SZ', '300454.SZ', '300457.SZ', '300458.SZ', '300463.SZ', '300471.SZ', '300474.SZ', '300476.SZ', '300482.SZ', '300493.SZ', '300495.SZ', '300496.SZ', '300498.SZ', '300502.SZ', '300527.SZ', '300529.SZ', '300558.SZ', '300561.SZ', '300567.SZ', '300576.SZ', '300595.SZ', '300598.SZ', '300601.SZ', '300602.SZ', '300618.SZ', '300628.SZ', '300630.SZ', '300638.SZ', '300661.SZ', '300663.SZ', '300666.SZ', '300676.SZ', '300679.SZ', '300699.SZ', '300725.SZ', '300726.SZ', '300735.SZ', '300739.SZ', '300747.SZ', '300748.SZ', '300750.SZ', '300759.SZ', '300760.SZ', '300761.SZ', '300762.SZ', '300768.SZ', '300770.SZ', '300773.SZ', '300782.SZ', '300860.SZ', '300861.SZ', '300862.SZ', '300863.SZ', '300864.SZ', '300865.SZ', '300866.SZ', '300867.SZ', '300868.SZ', '300869.SZ', '300870.SZ', '300871.SZ', '300872.SZ', '300873.SZ', '300875.SZ', '300876.SZ', '300877.SZ', '300878.SZ', '300879.SZ', '300880.SZ', '300881.SZ']\n"
    }
   ],
   "source": [
    "# grouth_list 所有创业板股票列表.\n",
    "grouth_list = basic[basic['market'] == '创业板']\n",
    "grouth_tscode = list(grouth_list['ts_code'])\n",
    "#p(grouth_list)\n",
    "# 所有融资融券股票列表\n",
    "# 要把 20200901 这个改成用代码生成, 先放在这里\n",
    "Margin_df = pro.margin_detail(trade_date='20200901')\n",
    "Margin_tscode = list(Margin_df['ts_code'])\n",
    "#p(Margin_tscode)\n",
    "# 即是 融资融券 又是 创业板的股票 有 220 只.\n",
    "grouth_and_margin = [one_coin for one_coin in Margin_tscode if one_coin in grouth_tscode]\n",
    "p(grouth_and_margin)"
   ]
  },
  {
   "cell_type": "code",
   "execution_count": 103,
   "metadata": {
    "tags": []
   },
   "outputs": [
    {
     "output_type": "stream",
     "name": "stdout",
     "text": "ts_code trade_date     open     high      low    close  pre_close  \\\n0    300001.SZ   20200901  20.6800  20.8100  20.0800  20.4900    20.6100   \n1    300001.SZ   20200831  21.1100  21.2200  20.6100  20.6100    21.0500   \n2    300001.SZ   20200828  20.8500  21.1600  20.6600  21.0500    20.9500   \n3    300001.SZ   20200827  20.1700  21.0700  19.9000  20.9500    20.1700   \n4    300001.SZ   20200826  20.5000  21.1000  20.0100  20.1700    20.7700   \n..         ...        ...      ...      ...      ...      ...        ...   \n157  300001.SZ   20200108  19.5159  20.5152  19.2661  20.0555    19.3460   \n158  300001.SZ   20200107  19.3360  19.8856  19.0662  19.3460    19.3060   \n159  300001.SZ   20200106  18.0869  19.6258  17.8471  19.3060    18.0070   \n160  300001.SZ   20200103  17.8271  18.1169  17.5773  18.0070    17.8771   \n161  300001.SZ   20200102  17.2375  17.9870  17.2375  17.8771    17.1676   \n\n     change  pct_chg        vol  ...      ma5      ma_v_5    ma10     ma_v_10  \\\n0   -0.1200  -0.5822  114902.92  ...  20.6540  124341.076  20.534  118981.673   \n1   -0.4400  -2.0903  118629.70  ...  20.7100  122510.730  20.519  115272.267   \n2    0.1000   0.4773  128789.76  ...  20.7760  128204.766  20.509  115946.070   \n3    0.7800   3.8671  152150.45  ...  20.6000  118330.406  20.425  109979.784   \n4   -0.6000  -2.8888  107232.55  ...  20.3560  112384.122  20.332  101694.606   \n..      ...      ...        ...  ...      ...         ...     ...         ...   \n157  0.7095   3.6674  412035.84  ...  18.9183  282742.582     NaN         NaN   \n158  0.0400   0.2072  250923.45  ...      NaN         NaN     NaN         NaN   \n159  1.2990   7.2139  425339.29  ...      NaN         NaN     NaN         NaN   \n160  0.1299   0.7266  140995.19  ...      NaN         NaN     NaN         NaN   \n161  0.7095   4.1328  184419.14  ...      NaN         NaN     NaN         NaN   \n\n        ma20      ma_v_20     ma30      ma_v_30     ma60      ma_v_60  \n0    20.4975  111732.1595  20.7030  122643.9730  21.4769  162766.7147  \n1    20.5480  112466.4450  20.7617  124097.1657  21.4788  162923.0547  \n2    20.5965  113904.6675  20.8137  127064.1680  21.4823  164847.6027  \n3    20.5965  112989.0920  20.8387  129674.2843  21.4675  164514.6052  \n4    20.5885  111431.3350  20.8750  132199.7743  21.4554  164165.4202  \n..       ...          ...      ...          ...      ...          ...  \n157      NaN          NaN      NaN          NaN      NaN          NaN  \n158      NaN          NaN      NaN          NaN      NaN          NaN  \n159      NaN          NaN      NaN          NaN      NaN          NaN  \n160      NaN          NaN      NaN          NaN      NaN          NaN  \n161      NaN          NaN      NaN          NaN      NaN          NaN  \n\n[162 rows x 21 columns]\n"
    }
   ],
   "source": [
    "# 在 又是融资又是融券中选择\n",
    "selcet_gandm = []\n",
    "# 从上面的列表中去除股票\n",
    "for tscode_onestock in grouth_and_margin :\n",
    "    oneselect_stockdata = ts.pro_bar(api = pro, ts_code = tscode_onestock, start_date = study_starttime, adj = 'qfq', ma=averagechose_list)\n",
    "    near_one = oneselect_stockdata.iloc[0]\n",
    "    if near_one['high'] > near_one['ma5'] :\n",
    "\n",
    "\n",
    "        ################################    \n",
    "        p(oneselect_stockdata)\n",
    "        break\n",
    "        "
   ]
  },
  {
   "cell_type": "code",
   "execution_count": 102,
   "metadata": {},
   "outputs": [
    {
     "output_type": "execute_result",
     "data": {
      "text/plain": "ts_code         300881.SZ\ntrade_date       20200901\nopen                 56.1\nhigh                94.96\nlow                 56.03\nclose                  78\npre_close           14.17\nchange              63.83\npct_chg           450.459\nvol                183460\namount        1.33602e+06\nma5                   NaN\nma_v_5                NaN\nma10                  NaN\nma_v_10               NaN\nma20                  NaN\nma_v_20               NaN\nma30                  NaN\nma_v_30               NaN\nma60                  NaN\nma_v_60               NaN\nName: 0, dtype: object"
     },
     "metadata": {},
     "execution_count": 102
    }
   ],
   "source": [
    "oneselect_stockdata.iloc[0]"
   ]
  },
  {
   "cell_type": "code",
   "execution_count": null,
   "metadata": {},
   "outputs": [],
   "source": []
  },
  {
   "cell_type": "code",
   "execution_count": null,
   "metadata": {},
   "outputs": [],
   "source": []
  },
  {
   "cell_type": "code",
   "execution_count": null,
   "metadata": {},
   "outputs": [],
   "source": []
  },
  {
   "cell_type": "code",
   "execution_count": null,
   "metadata": {},
   "outputs": [],
   "source": []
  },
  {
   "cell_type": "code",
   "execution_count": null,
   "metadata": {},
   "outputs": [],
   "source": []
  },
  {
   "cell_type": "code",
   "execution_count": null,
   "metadata": {},
   "outputs": [],
   "source": []
  },
  {
   "cell_type": "markdown",
   "metadata": {},
   "source": [
    "选择大跌几天,然后形成一个短小十字星的股票.\n",
    "如 300573 在 20200827 开始 到 20200831 的行情."
   ]
  },
  {
   "cell_type": "markdown",
   "metadata": {},
   "source": [
    "### 选择一个融资融券股票\n",
    "1. 首先要求形成一个短小十字星."
   ]
  },
  {
   "cell_type": "code",
   "execution_count": 60,
   "metadata": {
    "tags": []
   },
   "outputs": [
    {
     "output_type": "stream",
     "name": "stdout",
     "text": "ts_code trade_date     open     high      low    close  pre_close  \\\n0    000001.SZ   20200901  14.9600  15.2300  14.8800  15.1400    15.0800   \n1    000001.SZ   20200831  15.3000  15.6800  14.9900  15.0800    15.1300   \n2    000001.SZ   20200828  14.2600  15.1800  14.2600  15.1300    14.4600   \n3    000001.SZ   20200827  14.4000  14.4600  14.1100  14.4600    14.3700   \n4    000001.SZ   20200826  14.6000  14.6100  14.2800  14.3700    14.6000   \n..         ...        ...      ...      ...      ...      ...        ...   \n157  000001.SZ   20200108  16.7123  16.7615  16.3486  16.3781    16.8598   \n158  000001.SZ   20200107  16.8401  16.9876  16.6632  16.8598    16.7812   \n159  000001.SZ   20200106  16.7222  17.0466  16.6239  16.7812    16.8893   \n160  000001.SZ   20200103  16.6534  17.0171  16.6337  16.8893    16.5845   \n161  000001.SZ   20200102  16.3683  16.6632  16.2700  16.5845    16.1717   \n\n     change  pct_chg         vol  ...      ma5       ma_v_5    ma10  \\\n0    0.0600   0.3979   813642.58  ...  14.8360  1276391.326  14.738   \n1   -0.0500  -0.3305  1797129.54  ...  14.7280  1263326.854  14.739   \n2    0.6700   4.6335  2410400.02  ...  14.6040  1087790.718  14.750   \n3    0.0900   0.6263   626666.77  ...  14.4680   852614.180  14.684   \n4   -0.2300  -1.5753   734117.72  ...  14.4940   994041.150  14.656   \n..      ...      ...         ...  ...      ...          ...     ...   \n157 -0.4817  -2.8571   847824.12  ...  16.6986  1016988.372     NaN   \n158  0.0786   0.4684   728607.56  ...      NaN          NaN     NaN   \n159 -0.1081  -0.6401   862083.50  ...      NaN          NaN     NaN   \n160  0.3048   1.8379  1116194.81  ...      NaN          NaN     NaN   \n161  0.4128   2.5526  1530231.87  ...      NaN          NaN     NaN   \n\n         ma_v_10     ma20       ma_v_20     ma30       ma_v_30     ma60  \\\n0    1203897.277  14.5095  1.408348e+06  14.2190  1.465874e+06  14.0107   \n1    1257559.126  14.4545  1.489949e+06  14.1973  1.480514e+06  13.9848   \n2    1404648.952  14.3800  1.472347e+06  14.1857  1.486598e+06  13.9597   \n3    1273930.532  14.2905  1.410119e+06  14.1527  1.449296e+06  13.9332   \n4    1294990.030  14.2360  1.426989e+06  14.1423  1.492770e+06  13.9180   \n..           ...      ...           ...      ...           ...      ...   \n157          NaN      NaN           NaN      NaN           NaN      NaN   \n158          NaN      NaN           NaN      NaN           NaN      NaN   \n159          NaN      NaN           NaN      NaN           NaN      NaN   \n160          NaN      NaN           NaN      NaN           NaN      NaN   \n161          NaN      NaN           NaN      NaN           NaN      NaN   \n\n          ma_v_60  \n0    1.578572e+06  \n1    1.571395e+06  \n2    1.551161e+06  \n3    1.526934e+06  \n4    1.531214e+06  \n..            ...  \n157           NaN  \n158           NaN  \n159           NaN  \n160           NaN  \n161           NaN  \n\n[162 rows x 21 columns]\n"
    }
   ],
   "source": [
    "# 融资融券交易明细\n",
    "# Margin trading details\n",
    "study_starttime = '20200101'\n",
    "averagechose_list = [5, 10, 20, 30, 60]\n",
    "#########################\n",
    "Margin_df = pro.margin_detail(trade_date='20200901')\n",
    "for tscode_onestock in Margin_df['ts_code'] :\n",
    "    oneselect_stockdata = ts.pro_bar(api = pro, ts_code = tscode_onestock, start_date = study_starttime, adj = 'qfq', ma=averagechose_list)\n",
    "    p(oneselect_stockdata)\n",
    "    break\n",
    "\n"
   ]
  },
  {
   "cell_type": "code",
   "execution_count": 74,
   "metadata": {
    "tags": []
   },
   "outputs": [
    {
     "output_type": "stream",
     "name": "stdout",
     "text": "ts_code         000001.SZ\ntrade_date       20200901\nopen                14.96\nhigh                15.23\nlow                 14.88\nclose               15.14\npre_close           15.08\nchange               0.06\npct_chg            0.3979\nvol                813643\namount        1.22834e+06\nma5                14.836\nma_v_5        1.27639e+06\nma10               14.738\nma_v_10        1.2039e+06\nma20              14.5095\nma_v_20       1.40835e+06\nma30               14.219\nma_v_30       1.46587e+06\nma60              14.0107\nma_v_60       1.57857e+06\nName: 0, dtype: object\n"
    }
   ],
   "source": [
    "\n",
    "##############################\n",
    "# 计算每一天内 open 和 close 的距离\n",
    "open_farf_close = (oneselect_stockdata['open'] - oneselect_stockdata['close'])/oneselect_stockdata['close']\n",
    "# 一天内距离的平均值:\n",
    "average_open_farf_close = np.mean(abs(open_farf_close))\n",
    "\n",
    "######################################\n",
    "one_analysisdata = oneselect_stockdata.iloc[0]\n",
    "p(one_analysisdata)"
   ]
  },
  {
   "cell_type": "code",
   "execution_count": null,
   "metadata": {},
   "outputs": [],
   "source": []
  },
  {
   "cell_type": "markdown",
   "metadata": {},
   "source": []
  },
  {
   "cell_type": "code",
   "execution_count": null,
   "metadata": {},
   "outputs": [],
   "source": []
  },
  {
   "cell_type": "code",
   "execution_count": null,
   "metadata": {},
   "outputs": [],
   "source": []
  },
  {
   "cell_type": "code",
   "execution_count": null,
   "metadata": {},
   "outputs": [],
   "source": []
  },
  {
   "cell_type": "code",
   "execution_count": null,
   "metadata": {},
   "outputs": [],
   "source": []
  },
  {
   "cell_type": "code",
   "execution_count": null,
   "metadata": {},
   "outputs": [],
   "source": []
  },
  {
   "cell_type": "code",
   "execution_count": null,
   "metadata": {},
   "outputs": [],
   "source": []
  },
  {
   "cell_type": "code",
   "execution_count": null,
   "metadata": {},
   "outputs": [],
   "source": []
  },
  {
   "cell_type": "code",
   "execution_count": null,
   "metadata": {},
   "outputs": [],
   "source": []
  },
  {
   "cell_type": "code",
   "execution_count": null,
   "metadata": {},
   "outputs": [],
   "source": []
  }
 ],
 "metadata": {
  "kernelspec": {
   "display_name": "Python 3",
   "language": "python",
   "name": "python3"
  },
  "language_info": {
   "codemirror_mode": {
    "name": "ipython",
    "version": 3
   },
   "file_extension": ".py",
   "mimetype": "text/x-python",
   "name": "python",
   "nbconvert_exporter": "python",
   "pygments_lexer": "ipython3",
   "version": "3.7.4-final"
  }
 },
 "nbformat": 4,
 "nbformat_minor": 4
}