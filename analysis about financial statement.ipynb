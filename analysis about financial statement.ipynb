{
 "metadata": {
  "language_info": {
   "codemirror_mode": {
    "name": "ipython",
    "version": 3
   },
   "file_extension": ".py",
   "mimetype": "text/x-python",
   "name": "python",
   "nbconvert_exporter": "python",
   "pygments_lexer": "ipython3",
   "version": "3.7.4-final"
  },
  "orig_nbformat": 2,
  "kernelspec": {
   "name": "python_defaultSpec_1598926683423",
   "display_name": "Python 3.7.4 64-bit ('base': conda)"
  }
 },
 "nbformat": 4,
 "nbformat_minor": 2,
 "cells": [
  {
   "cell_type": "markdown",
   "metadata": {},
   "source": [
    "## 灵感来源\n",
    "“今天公司上下都很开心，每个人都收到了888元的大红包，包括劳务派遣工。”\n",
    "\n",
    "据多家媒体爆料，8月28日早上8点28分，顺丰的每一位员工，都收到了总裁王卫发来的888元慰问金，包括速运、科技、金融等各板块的人员规模测算，王卫这次发的红包将超过5亿元！而且是自掏腰包。\n",
    "\n",
    "而就在几日前，顺丰控股披露的半年报显示，上半年实现净利润37.6亿元，同比增长21.35%；上半年的速运物流业务件量36.55亿票，同比增长81.3%，远高于22.1%的行业增长率，实现了逆势增长。\n",
    "\n",
    "半年报发布的当天，顺丰控股便一字涨停，今日王卫给员工发红包后，公司的股价在盘中再次涨停，收报87.58元，较年初翻了一倍。\n",
    "\n",
    "### 总结:\n",
    "1. 利润实现 21.35% 的增长,\n",
    "2. 如何提前获得报表数据\n",
    "3. 如果不能提前获得报表数据, 可以观察报表发布前一天的数据,看看是否有特殊性.\n",
    "\n",
    "\n"
   ]
  },
  {
   "cell_type": "code",
   "execution_count": 1,
   "metadata": {},
   "outputs": [
    {
     "output_type": "execute_result",
     "data": {
      "text/plain": "       ts_code  symbol  name area industry market list_date\n800  002352.SZ  002352  顺丰控股   深圳     仓储物流    中小板  20100205",
      "text/html": "<div>\n<style scoped>\n    .dataframe tbody tr th:only-of-type {\n        vertical-align: middle;\n    }\n\n    .dataframe tbody tr th {\n        vertical-align: top;\n    }\n\n    .dataframe thead th {\n        text-align: right;\n    }\n</style>\n<table border=\"1\" class=\"dataframe\">\n  <thead>\n    <tr style=\"text-align: right;\">\n      <th></th>\n      <th>ts_code</th>\n      <th>symbol</th>\n      <th>name</th>\n      <th>area</th>\n      <th>industry</th>\n      <th>market</th>\n      <th>list_date</th>\n    </tr>\n  </thead>\n  <tbody>\n    <tr>\n      <th>800</th>\n      <td>002352.SZ</td>\n      <td>002352</td>\n      <td>顺丰控股</td>\n      <td>深圳</td>\n      <td>仓储物流</td>\n      <td>中小板</td>\n      <td>20100205</td>\n    </tr>\n  </tbody>\n</table>\n</div>"
     },
     "metadata": {},
     "execution_count": 1
    }
   ],
   "source": [
    "# 这套东西几乎是必须读取的.\n",
    "\n",
    "import math\n",
    "import datetime\n",
    "import multiprocessing as mp\n",
    "import tushare as ts\n",
    "import os\n",
    "import numpy as np\n",
    "import pandas as pd\n",
    "import datetime\n",
    "p = print\n",
    "# tushare 的初始化\n",
    "token = '1212fb28fdc360c768e0bd5fca52afa9c8136809afad540f8cf11bc8'\n",
    "pro = ts.pro_api(token)\n",
    "# 获取当前上市公司列表，包括股票代码，注册地，行业，上市时间等数据\n",
    "basic = pro.stock_basic(list_status = 'L')\n",
    "# 这个 cell 是必须要载入的\n"
   ]
  },
  {
   "cell_type": "code",
   "execution_count": 11,
   "metadata": {
    "tags": []
   },
   "outputs": [
    {
     "output_type": "stream",
     "name": "stdout",
     "text": "002352.SZ\n     ts_code  ann_date  end_date  pre_date actual_date\n0  002352.SZ  20200630  20200630  20200826        None\n1  002352.SZ  20200630  20200630  20200826    20200826\n"
    }
   ],
   "source": [
    "shunfeng_tscode = basic[basic['name'] == '顺丰控股'].iloc[0]['ts_code']\n",
    "# 顺丰的 ts_code\n",
    "p(shunfeng_tscode)\n",
    "# 财报披露计划 : \n",
    "# end_date\tstr\tN\t财报周期（比如20181231表示2018年年报，20180630表示中报)\n",
    "# pre_date\tstr\tN\t计划披露日期\n",
    "# actual_date\tstr\tN\t实际披露日期\n",
    "financialstate_df = pro.disclosure_date(ts_code = '002352.SZ'  ,end_date='20200630')\n",
    "p(financialstate_df)"
   ]
  },
  {
   "cell_type": "code",
   "execution_count": null,
   "metadata": {},
   "outputs": [],
   "source": []
  },
  {
   "cell_type": "code",
   "execution_count": 13,
   "metadata": {},
   "outputs": [
    {
     "output_type": "execute_result",
     "data": {
      "text/plain": "      ts_code  ann_date f_ann_date  end_date report_type comp_type  basic_eps  \\\n0   002352.SZ  20200826   20200826  20200630           1         1       0.85   \n1   002352.SZ  20200424   20200424  20200331           1         1       0.21   \n2   002352.SZ  20200324   20200324  20191231           1         1       1.32   \n3   002352.SZ  20191026   20191026  20190930           1         1       0.98   \n4   002352.SZ  20191026   20191026  20190930           1         1       0.98   \n5   002352.SZ  20190828   20190828  20190630           1         1        NaN   \n6   002352.SZ  20190828   20190828  20190630           1         1       0.70   \n7   002352.SZ  20190424   20190424  20190331           1         1       0.29   \n8   002352.SZ  20190424   20190424  20190331           1         1       0.29   \n9   002352.SZ  20190316   20190316  20181231           1         1       1.03   \n10  002352.SZ  20181027   20181027  20180930           1         1       0.69   \n11  002352.SZ  20180824   20180824  20180630           1         1       0.51   \n12  002352.SZ  20180427   20180427  20180331           1         1       0.23   \n13  002352.SZ  20180314   20180314  20171231           1         1       1.12   \n\n    diluted_eps  \n0          0.85  \n1          0.21  \n2          1.32  \n3          0.98  \n4          0.98  \n5           NaN  \n6          0.70  \n7          0.29  \n8          0.29  \n9          1.03  \n10         0.69  \n11         0.51  \n12         0.23  \n13         1.12  ",
      "text/html": "<div>\n<style scoped>\n    .dataframe tbody tr th:only-of-type {\n        vertical-align: middle;\n    }\n\n    .dataframe tbody tr th {\n        vertical-align: top;\n    }\n\n    .dataframe thead th {\n        text-align: right;\n    }\n</style>\n<table border=\"1\" class=\"dataframe\">\n  <thead>\n    <tr style=\"text-align: right;\">\n      <th></th>\n      <th>ts_code</th>\n      <th>ann_date</th>\n      <th>f_ann_date</th>\n      <th>end_date</th>\n      <th>report_type</th>\n      <th>comp_type</th>\n      <th>basic_eps</th>\n      <th>diluted_eps</th>\n    </tr>\n  </thead>\n  <tbody>\n    <tr>\n      <th>0</th>\n      <td>002352.SZ</td>\n      <td>20200826</td>\n      <td>20200826</td>\n      <td>20200630</td>\n      <td>1</td>\n      <td>1</td>\n      <td>0.85</td>\n      <td>0.85</td>\n    </tr>\n    <tr>\n      <th>1</th>\n      <td>002352.SZ</td>\n      <td>20200424</td>\n      <td>20200424</td>\n      <td>20200331</td>\n      <td>1</td>\n      <td>1</td>\n      <td>0.21</td>\n      <td>0.21</td>\n    </tr>\n    <tr>\n      <th>2</th>\n      <td>002352.SZ</td>\n      <td>20200324</td>\n      <td>20200324</td>\n      <td>20191231</td>\n      <td>1</td>\n      <td>1</td>\n      <td>1.32</td>\n      <td>1.32</td>\n    </tr>\n    <tr>\n      <th>3</th>\n      <td>002352.SZ</td>\n      <td>20191026</td>\n      <td>20191026</td>\n      <td>20190930</td>\n      <td>1</td>\n      <td>1</td>\n      <td>0.98</td>\n      <td>0.98</td>\n    </tr>\n    <tr>\n      <th>4</th>\n      <td>002352.SZ</td>\n      <td>20191026</td>\n      <td>20191026</td>\n      <td>20190930</td>\n      <td>1</td>\n      <td>1</td>\n      <td>0.98</td>\n      <td>0.98</td>\n    </tr>\n    <tr>\n      <th>5</th>\n      <td>002352.SZ</td>\n      <td>20190828</td>\n      <td>20190828</td>\n      <td>20190630</td>\n      <td>1</td>\n      <td>1</td>\n      <td>NaN</td>\n      <td>NaN</td>\n    </tr>\n    <tr>\n      <th>6</th>\n      <td>002352.SZ</td>\n      <td>20190828</td>\n      <td>20190828</td>\n      <td>20190630</td>\n      <td>1</td>\n      <td>1</td>\n      <td>0.70</td>\n      <td>0.70</td>\n    </tr>\n    <tr>\n      <th>7</th>\n      <td>002352.SZ</td>\n      <td>20190424</td>\n      <td>20190424</td>\n      <td>20190331</td>\n      <td>1</td>\n      <td>1</td>\n      <td>0.29</td>\n      <td>0.29</td>\n    </tr>\n    <tr>\n      <th>8</th>\n      <td>002352.SZ</td>\n      <td>20190424</td>\n      <td>20190424</td>\n      <td>20190331</td>\n      <td>1</td>\n      <td>1</td>\n      <td>0.29</td>\n      <td>0.29</td>\n    </tr>\n    <tr>\n      <th>9</th>\n      <td>002352.SZ</td>\n      <td>20190316</td>\n      <td>20190316</td>\n      <td>20181231</td>\n      <td>1</td>\n      <td>1</td>\n      <td>1.03</td>\n      <td>1.03</td>\n    </tr>\n    <tr>\n      <th>10</th>\n      <td>002352.SZ</td>\n      <td>20181027</td>\n      <td>20181027</td>\n      <td>20180930</td>\n      <td>1</td>\n      <td>1</td>\n      <td>0.69</td>\n      <td>0.69</td>\n    </tr>\n    <tr>\n      <th>11</th>\n      <td>002352.SZ</td>\n      <td>20180824</td>\n      <td>20180824</td>\n      <td>20180630</td>\n      <td>1</td>\n      <td>1</td>\n      <td>0.51</td>\n      <td>0.51</td>\n    </tr>\n    <tr>\n      <th>12</th>\n      <td>002352.SZ</td>\n      <td>20180427</td>\n      <td>20180427</td>\n      <td>20180331</td>\n      <td>1</td>\n      <td>1</td>\n      <td>0.23</td>\n      <td>0.23</td>\n    </tr>\n    <tr>\n      <th>13</th>\n      <td>002352.SZ</td>\n      <td>20180314</td>\n      <td>20180314</td>\n      <td>20171231</td>\n      <td>1</td>\n      <td>1</td>\n      <td>1.12</td>\n      <td>1.12</td>\n    </tr>\n  </tbody>\n</table>\n</div>"
     },
     "metadata": {},
     "execution_count": 13
    }
   ],
   "source": [
    "# 利润表: income statement\n",
    "\n",
    "income_df = pro.income(ts_code='002352.SZ', start_date='20180101', end_date='20201201', fields='ts_code,ann_date,f_ann_date,end_date,report_type,comp_type,basic_eps,diluted_eps')\n",
    "income_df"
   ]
  },
  {
   "cell_type": "code",
   "execution_count": null,
   "metadata": {},
   "outputs": [],
   "source": []
  },
  {
   "cell_type": "code",
   "execution_count": null,
   "metadata": {},
   "outputs": [],
   "source": []
  },
  {
   "cell_type": "code",
   "execution_count": null,
   "metadata": {},
   "outputs": [],
   "source": []
  },
  {
   "cell_type": "code",
   "execution_count": null,
   "metadata": {},
   "outputs": [],
   "source": []
  },
  {
   "cell_type": "code",
   "execution_count": null,
   "metadata": {},
   "outputs": [],
   "source": []
  },
  {
   "cell_type": "code",
   "execution_count": null,
   "metadata": {},
   "outputs": [],
   "source": []
  },
  {
   "cell_type": "code",
   "execution_count": null,
   "metadata": {},
   "outputs": [],
   "source": []
  },
  {
   "cell_type": "code",
   "execution_count": null,
   "metadata": {},
   "outputs": [],
   "source": []
  },
  {
   "cell_type": "code",
   "execution_count": null,
   "metadata": {},
   "outputs": [],
   "source": []
  }
 ]
}